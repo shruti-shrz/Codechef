{
 "cells": [
  {
   "cell_type": "code",
   "execution_count": 1,
   "metadata": {},
   "outputs": [],
   "source": [
    "import turicreate as tc"
   ]
  },
  {
   "cell_type": "code",
   "execution_count": 2,
   "metadata": {},
   "outputs": [
    {
     "data": {
      "text/html": [
       "<pre>Finished parsing file /mnt/d/ml_coursera/analyzer.csv</pre>"
      ],
      "text/plain": [
       "Finished parsing file /mnt/d/ml_coursera/analyzer.csv"
      ]
     },
     "metadata": {},
     "output_type": "display_data"
    },
    {
     "data": {
      "text/html": [
       "<pre>Parsing completed. Parsed 100 lines in 0.055356 secs.</pre>"
      ],
      "text/plain": [
       "Parsing completed. Parsed 100 lines in 0.055356 secs."
      ]
     },
     "metadata": {},
     "output_type": "display_data"
    },
    {
     "name": "stdout",
     "output_type": "stream",
     "text": [
      "------------------------------------------------------\n",
      "Inferred types from first 100 line(s) of file as \n",
      "column_type_hints=[int,str,int,str,str,str,str,str,str]\n",
      "If parsing fails due to incorrect types, you can correct\n",
      "the inferred type list above and pass it to read_csv in\n",
      "the column_type_hints argument\n",
      "------------------------------------------------------\n"
     ]
    },
    {
     "data": {
      "text/html": [
       "<pre>Finished parsing file /mnt/d/ml_coursera/analyzer.csv</pre>"
      ],
      "text/plain": [
       "Finished parsing file /mnt/d/ml_coursera/analyzer.csv"
      ]
     },
     "metadata": {},
     "output_type": "display_data"
    },
    {
     "data": {
      "text/html": [
       "<pre>Parsing completed. Parsed 866 lines in 0.054006 secs.</pre>"
      ],
      "text/plain": [
       "Parsing completed. Parsed 866 lines in 0.054006 secs."
      ]
     },
     "metadata": {},
     "output_type": "display_data"
    }
   ],
   "source": [
    "sf = tc.SFrame('analyzer.csv')"
   ]
  },
  {
   "cell_type": "code",
   "execution_count": 3,
   "metadata": {},
   "outputs": [
    {
     "data": {
      "text/html": [
       "<div style=\"max-height:1000px;max-width:1500px;overflow:auto;\"><table frame=\"box\" rules=\"cols\">\n",
       "    <tr>\n",
       "        <th style=\"padding-left: 1em; padding-right: 1em; text-align: center\">program_id</th>\n",
       "        <th style=\"padding-left: 1em; padding-right: 1em; text-align: center\">datetime</th>\n",
       "        <th style=\"padding-left: 1em; padding-right: 1em; text-align: center\">star</th>\n",
       "        <th style=\"padding-left: 1em; padding-right: 1em; text-align: center\">user</th>\n",
       "        <th style=\"padding-left: 1em; padding-right: 1em; text-align: center\">result</th>\n",
       "        <th style=\"padding-left: 1em; padding-right: 1em; text-align: center\">time</th>\n",
       "        <th style=\"padding-left: 1em; padding-right: 1em; text-align: center\">memory</th>\n",
       "        <th style=\"padding-left: 1em; padding-right: 1em; text-align: center\">language</th>\n",
       "        <th style=\"padding-left: 1em; padding-right: 1em; text-align: center\">problem_code</th>\n",
       "    </tr>\n",
       "    <tr>\n",
       "        <td style=\"padding-left: 1em; padding-right: 1em; text-align: center; vertical-align: top\">34852056</td>\n",
       "        <td style=\"padding-left: 1em; padding-right: 1em; text-align: center; vertical-align: top\">08:44 PM 28/06/20</td>\n",
       "        <td style=\"padding-left: 1em; padding-right: 1em; text-align: center; vertical-align: top\">4</td>\n",
       "        <td style=\"padding-left: 1em; padding-right: 1em; text-align: center; vertical-align: top\">crusher5371</td>\n",
       "        <td style=\"padding-left: 1em; padding-right: 1em; text-align: center; vertical-align: top\">accepted</td>\n",
       "        <td style=\"padding-left: 1em; padding-right: 1em; text-align: center; vertical-align: top\">0.00</td>\n",
       "        <td style=\"padding-left: 1em; padding-right: 1em; text-align: center; vertical-align: top\">10.5M</td>\n",
       "        <td style=\"padding-left: 1em; padding-right: 1em; text-align: center; vertical-align: top\">C++17</td>\n",
       "        <td style=\"padding-left: 1em; padding-right: 1em; text-align: center; vertical-align: top\">ECJN202</td>\n",
       "    </tr>\n",
       "    <tr>\n",
       "        <td style=\"padding-left: 1em; padding-right: 1em; text-align: center; vertical-align: top\">34852073</td>\n",
       "        <td style=\"padding-left: 1em; padding-right: 1em; text-align: center; vertical-align: top\">08:45 PM 28/06/20</td>\n",
       "        <td style=\"padding-left: 1em; padding-right: 1em; text-align: center; vertical-align: top\">5</td>\n",
       "        <td style=\"padding-left: 1em; padding-right: 1em; text-align: center; vertical-align: top\">akil_av17</td>\n",
       "        <td style=\"padding-left: 1em; padding-right: 1em; text-align: center; vertical-align: top\">accepted</td>\n",
       "        <td style=\"padding-left: 1em; padding-right: 1em; text-align: center; vertical-align: top\">0.05</td>\n",
       "        <td style=\"padding-left: 1em; padding-right: 1em; text-align: center; vertical-align: top\">2133M</td>\n",
       "        <td style=\"padding-left: 1em; padding-right: 1em; text-align: center; vertical-align: top\">JAVA</td>\n",
       "        <td style=\"padding-left: 1em; padding-right: 1em; text-align: center; vertical-align: top\">ECJN202</td>\n",
       "    </tr>\n",
       "    <tr>\n",
       "        <td style=\"padding-left: 1em; padding-right: 1em; text-align: center; vertical-align: top\">34852106</td>\n",
       "        <td style=\"padding-left: 1em; padding-right: 1em; text-align: center; vertical-align: top\">08:47 PM 28/06/20</td>\n",
       "        <td style=\"padding-left: 1em; padding-right: 1em; text-align: center; vertical-align: top\">3</td>\n",
       "        <td style=\"padding-left: 1em; padding-right: 1em; text-align: center; vertical-align: top\">hackervivek123</td>\n",
       "        <td style=\"padding-left: 1em; padding-right: 1em; text-align: center; vertical-align: top\">accepted</td>\n",
       "        <td style=\"padding-left: 1em; padding-right: 1em; text-align: center; vertical-align: top\">0.00</td>\n",
       "        <td style=\"padding-left: 1em; padding-right: 1em; text-align: center; vertical-align: top\">26M</td>\n",
       "        <td style=\"padding-left: 1em; padding-right: 1em; text-align: center; vertical-align: top\">C++14</td>\n",
       "        <td style=\"padding-left: 1em; padding-right: 1em; text-align: center; vertical-align: top\">ECJN202</td>\n",
       "    </tr>\n",
       "    <tr>\n",
       "        <td style=\"padding-left: 1em; padding-right: 1em; text-align: center; vertical-align: top\">34852142</td>\n",
       "        <td style=\"padding-left: 1em; padding-right: 1em; text-align: center; vertical-align: top\">08:49 PM 28/06/20</td>\n",
       "        <td style=\"padding-left: 1em; padding-right: 1em; text-align: center; vertical-align: top\">2</td>\n",
       "        <td style=\"padding-left: 1em; padding-right: 1em; text-align: center; vertical-align: top\">niteshguptaktl</td>\n",
       "        <td style=\"padding-left: 1em; padding-right: 1em; text-align: center; vertical-align: top\">accepted</td>\n",
       "        <td style=\"padding-left: 1em; padding-right: 1em; text-align: center; vertical-align: top\">0.00</td>\n",
       "        <td style=\"padding-left: 1em; padding-right: 1em; text-align: center; vertical-align: top\">14.9M</td>\n",
       "        <td style=\"padding-left: 1em; padding-right: 1em; text-align: center; vertical-align: top\">C++14</td>\n",
       "        <td style=\"padding-left: 1em; padding-right: 1em; text-align: center; vertical-align: top\">ECJN202</td>\n",
       "    </tr>\n",
       "    <tr>\n",
       "        <td style=\"padding-left: 1em; padding-right: 1em; text-align: center; vertical-align: top\">34852231</td>\n",
       "        <td style=\"padding-left: 1em; padding-right: 1em; text-align: center; vertical-align: top\">08:53 PM 28/06/20</td>\n",
       "        <td style=\"padding-left: 1em; padding-right: 1em; text-align: center; vertical-align: top\">2</td>\n",
       "        <td style=\"padding-left: 1em; padding-right: 1em; text-align: center; vertical-align: top\">sindal_01</td>\n",
       "        <td style=\"padding-left: 1em; padding-right: 1em; text-align: center; vertical-align: top\">wrong answer</td>\n",
       "        <td style=\"padding-left: 1em; padding-right: 1em; text-align: center; vertical-align: top\">0.00</td>\n",
       "        <td style=\"padding-left: 1em; padding-right: 1em; text-align: center; vertical-align: top\">14.9M</td>\n",
       "        <td style=\"padding-left: 1em; padding-right: 1em; text-align: center; vertical-align: top\">C++14</td>\n",
       "        <td style=\"padding-left: 1em; padding-right: 1em; text-align: center; vertical-align: top\">ECJN202</td>\n",
       "    </tr>\n",
       "    <tr>\n",
       "        <td style=\"padding-left: 1em; padding-right: 1em; text-align: center; vertical-align: top\">34852241</td>\n",
       "        <td style=\"padding-left: 1em; padding-right: 1em; text-align: center; vertical-align: top\">08:54 PM 28/06/20</td>\n",
       "        <td style=\"padding-left: 1em; padding-right: 1em; text-align: center; vertical-align: top\">1</td>\n",
       "        <td style=\"padding-left: 1em; padding-right: 1em; text-align: center; vertical-align: top\">paras__2000</td>\n",
       "        <td style=\"padding-left: 1em; padding-right: 1em; text-align: center; vertical-align: top\">accepted</td>\n",
       "        <td style=\"padding-left: 1em; padding-right: 1em; text-align: center; vertical-align: top\">0.01</td>\n",
       "        <td style=\"padding-left: 1em; padding-right: 1em; text-align: center; vertical-align: top\">17.6M</td>\n",
       "        <td style=\"padding-left: 1em; padding-right: 1em; text-align: center; vertical-align: top\">PYTH 3.6</td>\n",
       "        <td style=\"padding-left: 1em; padding-right: 1em; text-align: center; vertical-align: top\">ECJN202</td>\n",
       "    </tr>\n",
       "    <tr>\n",
       "        <td style=\"padding-left: 1em; padding-right: 1em; text-align: center; vertical-align: top\">34852340</td>\n",
       "        <td style=\"padding-left: 1em; padding-right: 1em; text-align: center; vertical-align: top\">08:59 PM 28/06/20</td>\n",
       "        <td style=\"padding-left: 1em; padding-right: 1em; text-align: center; vertical-align: top\">2</td>\n",
       "        <td style=\"padding-left: 1em; padding-right: 1em; text-align: center; vertical-align: top\">sindal_01</td>\n",
       "        <td style=\"padding-left: 1em; padding-right: 1em; text-align: center; vertical-align: top\">wrong answer</td>\n",
       "        <td style=\"padding-left: 1em; padding-right: 1em; text-align: center; vertical-align: top\">0.00</td>\n",
       "        <td style=\"padding-left: 1em; padding-right: 1em; text-align: center; vertical-align: top\">14.9M</td>\n",
       "        <td style=\"padding-left: 1em; padding-right: 1em; text-align: center; vertical-align: top\">C++14</td>\n",
       "        <td style=\"padding-left: 1em; padding-right: 1em; text-align: center; vertical-align: top\">ECJN202</td>\n",
       "    </tr>\n",
       "    <tr>\n",
       "        <td style=\"padding-left: 1em; padding-right: 1em; text-align: center; vertical-align: top\">34852354</td>\n",
       "        <td style=\"padding-left: 1em; padding-right: 1em; text-align: center; vertical-align: top\">09:00 PM 28/06/20</td>\n",
       "        <td style=\"padding-left: 1em; padding-right: 1em; text-align: center; vertical-align: top\">1</td>\n",
       "        <td style=\"padding-left: 1em; padding-right: 1em; text-align: center; vertical-align: top\">aditya029</td>\n",
       "        <td style=\"padding-left: 1em; padding-right: 1em; text-align: center; vertical-align: top\">accepted</td>\n",
       "        <td style=\"padding-left: 1em; padding-right: 1em; text-align: center; vertical-align: top\">0.00</td>\n",
       "        <td style=\"padding-left: 1em; padding-right: 1em; text-align: center; vertical-align: top\">14.9M</td>\n",
       "        <td style=\"padding-left: 1em; padding-right: 1em; text-align: center; vertical-align: top\">C++14</td>\n",
       "        <td style=\"padding-left: 1em; padding-right: 1em; text-align: center; vertical-align: top\">ECJN202</td>\n",
       "    </tr>\n",
       "    <tr>\n",
       "        <td style=\"padding-left: 1em; padding-right: 1em; text-align: center; vertical-align: top\">34852374</td>\n",
       "        <td style=\"padding-left: 1em; padding-right: 1em; text-align: center; vertical-align: top\">09:01 PM 28/06/20</td>\n",
       "        <td style=\"padding-left: 1em; padding-right: 1em; text-align: center; vertical-align: top\">2</td>\n",
       "        <td style=\"padding-left: 1em; padding-right: 1em; text-align: center; vertical-align: top\">sindal_01</td>\n",
       "        <td style=\"padding-left: 1em; padding-right: 1em; text-align: center; vertical-align: top\">wrong answer</td>\n",
       "        <td style=\"padding-left: 1em; padding-right: 1em; text-align: center; vertical-align: top\">0.00</td>\n",
       "        <td style=\"padding-left: 1em; padding-right: 1em; text-align: center; vertical-align: top\">14.9M</td>\n",
       "        <td style=\"padding-left: 1em; padding-right: 1em; text-align: center; vertical-align: top\">C++14</td>\n",
       "        <td style=\"padding-left: 1em; padding-right: 1em; text-align: center; vertical-align: top\">ECJN202</td>\n",
       "    </tr>\n",
       "    <tr>\n",
       "        <td style=\"padding-left: 1em; padding-right: 1em; text-align: center; vertical-align: top\">34852388</td>\n",
       "        <td style=\"padding-left: 1em; padding-right: 1em; text-align: center; vertical-align: top\">09:02 PM 28/06/20</td>\n",
       "        <td style=\"padding-left: 1em; padding-right: 1em; text-align: center; vertical-align: top\">2</td>\n",
       "        <td style=\"padding-left: 1em; padding-right: 1em; text-align: center; vertical-align: top\">sindal_01</td>\n",
       "        <td style=\"padding-left: 1em; padding-right: 1em; text-align: center; vertical-align: top\">wrong answer</td>\n",
       "        <td style=\"padding-left: 1em; padding-right: 1em; text-align: center; vertical-align: top\">0.00</td>\n",
       "        <td style=\"padding-left: 1em; padding-right: 1em; text-align: center; vertical-align: top\">14.9M</td>\n",
       "        <td style=\"padding-left: 1em; padding-right: 1em; text-align: center; vertical-align: top\">C++14</td>\n",
       "        <td style=\"padding-left: 1em; padding-right: 1em; text-align: center; vertical-align: top\">ECJN202</td>\n",
       "    </tr>\n",
       "</table>\n",
       "[866 rows x 9 columns]<br/>Note: Only the head of the SFrame is printed.<br/>You can use print_rows(num_rows=m, num_columns=n) to print more rows and columns.\n",
       "</div>"
      ],
      "text/plain": [
       "Columns:\n",
       "\tprogram_id\tint\n",
       "\tdatetime\tstr\n",
       "\tstar\tint\n",
       "\tuser\tstr\n",
       "\tresult\tstr\n",
       "\ttime\tstr\n",
       "\tmemory\tstr\n",
       "\tlanguage\tstr\n",
       "\tproblem_code\tstr\n",
       "\n",
       "Rows: 866\n",
       "\n",
       "Data:\n",
       "+------------+-------------------+------+----------------+--------------+------+\n",
       "| program_id |      datetime     | star |      user      |    result    | time |\n",
       "+------------+-------------------+------+----------------+--------------+------+\n",
       "|  34852056  | 08:44 PM 28/06/20 |  4   |  crusher5371   |   accepted   | 0.00 |\n",
       "|  34852073  | 08:45 PM 28/06/20 |  5   |   akil_av17    |   accepted   | 0.05 |\n",
       "|  34852106  | 08:47 PM 28/06/20 |  3   | hackervivek123 |   accepted   | 0.00 |\n",
       "|  34852142  | 08:49 PM 28/06/20 |  2   | niteshguptaktl |   accepted   | 0.00 |\n",
       "|  34852231  | 08:53 PM 28/06/20 |  2   |   sindal_01    | wrong answer | 0.00 |\n",
       "|  34852241  | 08:54 PM 28/06/20 |  1   |  paras__2000   |   accepted   | 0.01 |\n",
       "|  34852340  | 08:59 PM 28/06/20 |  2   |   sindal_01    | wrong answer | 0.00 |\n",
       "|  34852354  | 09:00 PM 28/06/20 |  1   |   aditya029    |   accepted   | 0.00 |\n",
       "|  34852374  | 09:01 PM 28/06/20 |  2   |   sindal_01    | wrong answer | 0.00 |\n",
       "|  34852388  | 09:02 PM 28/06/20 |  2   |   sindal_01    | wrong answer | 0.00 |\n",
       "+------------+-------------------+------+----------------+--------------+------+\n",
       "+--------+----------+--------------+\n",
       "| memory | language | problem_code |\n",
       "+--------+----------+--------------+\n",
       "| 10.5M  |  C++17   |   ECJN202    |\n",
       "| 2133M  |   JAVA   |   ECJN202    |\n",
       "|  26M   |  C++14   |   ECJN202    |\n",
       "| 14.9M  |  C++14   |   ECJN202    |\n",
       "| 14.9M  |  C++14   |   ECJN202    |\n",
       "| 17.6M  | PYTH 3.6 |   ECJN202    |\n",
       "| 14.9M  |  C++14   |   ECJN202    |\n",
       "| 14.9M  |  C++14   |   ECJN202    |\n",
       "| 14.9M  |  C++14   |   ECJN202    |\n",
       "| 14.9M  |  C++14   |   ECJN202    |\n",
       "+--------+----------+--------------+\n",
       "[866 rows x 9 columns]\n",
       "Note: Only the head of the SFrame is printed.\n",
       "You can use print_rows(num_rows=m, num_columns=n) to print more rows and columns."
      ]
     },
     "execution_count": 3,
     "metadata": {},
     "output_type": "execute_result"
    }
   ],
   "source": [
    "sf"
   ]
  },
  {
   "cell_type": "code",
   "execution_count": 5,
   "metadata": {},
   "outputs": [
    {
     "data": {
      "text/html": [
       "<pre>Materializing X axis SArray</pre>"
      ],
      "text/plain": [
       "Materializing X axis SArray"
      ]
     },
     "metadata": {},
     "output_type": "display_data"
    },
    {
     "data": {
      "text/html": [
       "<pre>Materializing Y axis SArray</pre>"
      ],
      "text/plain": [
       "Materializing Y axis SArray"
      ]
     },
     "metadata": {},
     "output_type": "display_data"
    },
    {
     "data": {
      "text/html": [
       "<html>                 <body>                     <iframe style=\"border:0;margin:0\" width=\"920\" height=\"770\" srcdoc='<html lang=\"en\">                         <head>                             <script src=\"https://cdnjs.cloudflare.com/ajax/libs/vega/5.4.0/vega.js\"></script>                             <script src=\"https://cdnjs.cloudflare.com/ajax/libs/vega-embed/4.0.0/vega-embed.js\"></script>                             <script src=\"https://cdnjs.cloudflare.com/ajax/libs/vega-tooltip/0.5.1/vega-tooltip.min.js\"></script>                             <link rel=\"stylesheet\" type=\"text/css\" href=\"https://cdnjs.cloudflare.com/ajax/libs/vega-tooltip/0.5.1/vega-tooltip.min.css\">                             <style>                             .vega-actions > a{                                 color:white;                                 text-decoration: none;                                 font-family: \"Arial\";                                 cursor:pointer;                                 padding:5px;                                 background:#AAAAAA;                                 border-radius:4px;                                 padding-left:10px;                                 padding-right:10px;                                 margin-right:5px;                             }                             .vega-actions{                                 margin-top:20px;                                 text-align:center                             }                            .vega-actions > a{                                 background:#999999;                            }                             </style>                         </head>                         <body>                             <div id=\"vis\">                             </div>                             <script>                                 var vega_json = \"{\\\"$schema\\\": \\\"https://vega.github.io/schema/vega/v4.json\\\", \\\"autosize\\\": {\\\"type\\\": \\\"fit\\\", \\\"resize\\\": false, \\\"contains\\\": \\\"padding\\\"}, \\\"axes\\\": [{\\\"scale\\\": \\\"x\\\", \\\"title\\\": \\\"X\\\", \\\"tickCount\\\": {\\\"signal\\\": \\\"min(ceil(width/40), 60)\\\"}, \\\"zindex\\\": 1, \\\"labelOverlap\\\": true, \\\"encode\\\": {\\\"labels\\\": {\\\"update\\\": {\\\"align\\\": {\\\"value\\\": \\\"right\\\"}, \\\"angle\\\": {\\\"value\\\": 270}, \\\"baseline\\\": {\\\"value\\\": \\\"middle\\\"}}}}, \\\"orient\\\": \\\"bottom\\\"}, {\\\"scale\\\": \\\"y\\\", \\\"title\\\": \\\"Y\\\", \\\"tickCount\\\": {\\\"signal\\\": \\\"min(ceil(height/40), 40)\\\"}, \\\"zindex\\\": 1, \\\"labelOverlap\\\": true, \\\"orient\\\": \\\"left\\\"}], \\\"legends\\\": [{\\\"titlePadding\\\": 4, \\\"direction\\\": \\\"horizontal\\\", \\\"title\\\": \\\"Count\\\", \\\"titleFontSize\\\": 12, \\\"gradientLength\\\": {\\\"signal\\\": \\\"width\\\"}, \\\"type\\\": \\\"gradient\\\", \\\"orient\\\": \\\"top\\\", \\\"fill\\\": \\\"color\\\"}], \\\"title\\\": \\\"X vs. Y\\\", \\\"scales\\\": [{\\\"range\\\": [0, {\\\"signal\\\": \\\"width\\\"}], \\\"type\\\": \\\"band\\\", \\\"domain\\\": {\\\"data\\\": \\\"source_2\\\", \\\"field\\\": \\\"x\\\", \\\"sort\\\": true}, \\\"zero\\\": false, \\\"name\\\": \\\"x\\\"}, {\\\"range\\\": [{\\\"signal\\\": \\\"height\\\"}, 0], \\\"type\\\": \\\"band\\\", \\\"domain\\\": {\\\"data\\\": \\\"source_2\\\", \\\"field\\\": \\\"y\\\", \\\"sort\\\": true}, \\\"zero\\\": false, \\\"name\\\": \\\"y\\\"}, {\\\"domain\\\": {\\\"field\\\": \\\"count\\\", \\\"data\\\": \\\"source_2\\\"}, \\\"name\\\": \\\"color\\\", \\\"zero\\\": false, \\\"range\\\": \\\"heatmap\\\", \\\"type\\\": \\\"sequential\\\", \\\"nice\\\": false}], \\\"height\\\": 550, \\\"padding\\\": 8, \\\"width\\\": 720, \\\"marks\\\": [{\\\"encode\\\": {\\\"update\\\": {\\\"fill\\\": {\\\"field\\\": \\\"count\\\", \\\"scale\\\": \\\"color\\\"}}, \\\"enter\\\": {\\\"y\\\": {\\\"field\\\": \\\"y\\\", \\\"scale\\\": \\\"y\\\"}, \\\"x\\\": {\\\"field\\\": \\\"x\\\", \\\"scale\\\": \\\"x\\\"}, \\\"height\\\": {\\\"band\\\": true, \\\"scale\\\": \\\"y\\\"}, \\\"width\\\": {\\\"band\\\": true, \\\"scale\\\": \\\"x\\\"}}}, \\\"from\\\": {\\\"data\\\": \\\"source_2\\\"}, \\\"type\\\": \\\"rect\\\"}], \\\"data\\\": [{\\\"name\\\": \\\"source_2\\\", \\\"values\\\": [{\\\"x\\\": \\\"C\\\", \\\"y\\\": \\\"compilation error\\\", \\\"count\\\": 3}, {\\\"x\\\": \\\"C\\\", \\\"y\\\": \\\"wrong answer\\\", \\\"count\\\": 23}, {\\\"x\\\": \\\"C\\\", \\\"y\\\": \\\"runtime error(SIGSEGV)\\\", \\\"count\\\": 0}, {\\\"x\\\": \\\"C\\\", \\\"y\\\": \\\"runtime error(SIGABRT)\\\", \\\"count\\\": 0}, {\\\"x\\\": \\\"C\\\", \\\"y\\\": \\\"runtime error(NZEC)\\\", \\\"count\\\": 0}, {\\\"x\\\": \\\"C\\\", \\\"y\\\": \\\"accepted\\\", \\\"count\\\": 27}, {\\\"x\\\": \\\"C\\\", \\\"y\\\": \\\"runtime error(SIGFPE)\\\", \\\"count\\\": 0}, {\\\"x\\\": \\\"JAVA\\\", \\\"y\\\": \\\"compilation error\\\", \\\"count\\\": 7}, {\\\"x\\\": \\\"JAVA\\\", \\\"y\\\": \\\"wrong answer\\\", \\\"count\\\": 27}, {\\\"x\\\": \\\"JAVA\\\", \\\"y\\\": \\\"runtime error(SIGSEGV)\\\", \\\"count\\\": 0}, {\\\"x\\\": \\\"JAVA\\\", \\\"y\\\": \\\"runtime error(SIGABRT)\\\", \\\"count\\\": 0}, {\\\"x\\\": \\\"JAVA\\\", \\\"y\\\": \\\"runtime error(NZEC)\\\", \\\"count\\\": 0}, {\\\"x\\\": \\\"JAVA\\\", \\\"y\\\": \\\"accepted\\\", \\\"count\\\": 49}, {\\\"x\\\": \\\"JAVA\\\", \\\"y\\\": \\\"runtime error(SIGFPE)\\\", \\\"count\\\": 0}, {\\\"x\\\": \\\"PYTH 3.6\\\", \\\"y\\\": \\\"compilation error\\\", \\\"count\\\": 7}, {\\\"x\\\": \\\"PYTH 3.6\\\", \\\"y\\\": \\\"wrong answer\\\", \\\"count\\\": 28}, {\\\"x\\\": \\\"PYTH 3.6\\\", \\\"y\\\": \\\"runtime error(SIGSEGV)\\\", \\\"count\\\": 0}, {\\\"x\\\": \\\"PYTH 3.6\\\", \\\"y\\\": \\\"runtime error(SIGABRT)\\\", \\\"count\\\": 0}, {\\\"x\\\": \\\"PYTH 3.6\\\", \\\"y\\\": \\\"runtime error(NZEC)\\\", \\\"count\\\": 21}, {\\\"x\\\": \\\"PYTH 3.6\\\", \\\"y\\\": \\\"accepted\\\", \\\"count\\\": 75}, {\\\"x\\\": \\\"PYTH 3.6\\\", \\\"y\\\": \\\"runtime error(SIGFPE)\\\", \\\"count\\\": 0}, {\\\"x\\\": \\\"C++14\\\", \\\"y\\\": \\\"compilation error\\\", \\\"count\\\": 20}, {\\\"x\\\": \\\"C++14\\\", \\\"y\\\": \\\"wrong answer\\\", \\\"count\\\": 158}, {\\\"x\\\": \\\"C++14\\\", \\\"y\\\": \\\"runtime error(SIGSEGV)\\\", \\\"count\\\": 7}, {\\\"x\\\": \\\"C++14\\\", \\\"y\\\": \\\"runtime error(SIGABRT)\\\", \\\"count\\\": 1}, {\\\"x\\\": \\\"C++14\\\", \\\"y\\\": \\\"runtime error(NZEC)\\\", \\\"count\\\": 0}, {\\\"x\\\": \\\"C++14\\\", \\\"y\\\": \\\"accepted\\\", \\\"count\\\": 312}, {\\\"x\\\": \\\"C++14\\\", \\\"y\\\": \\\"runtime error(SIGFPE)\\\", \\\"count\\\": 4}, {\\\"x\\\": \\\"PYPY3\\\", \\\"y\\\": \\\"compilation error\\\", \\\"count\\\": 0}, {\\\"x\\\": \\\"PYPY3\\\", \\\"y\\\": \\\"wrong answer\\\", \\\"count\\\": 1}, {\\\"x\\\": \\\"PYPY3\\\", \\\"y\\\": \\\"runtime error(SIGSEGV)\\\", \\\"count\\\": 0}, {\\\"x\\\": \\\"PYPY3\\\", \\\"y\\\": \\\"runtime error(SIGABRT)\\\", \\\"count\\\": 0}, {\\\"x\\\": \\\"PYPY3\\\", \\\"y\\\": \\\"runtime error(NZEC)\\\", \\\"count\\\": 0}, {\\\"x\\\": \\\"PYPY3\\\", \\\"y\\\": \\\"accepted\\\", \\\"count\\\": 6}, {\\\"x\\\": \\\"PYPY3\\\", \\\"y\\\": \\\"runtime error(SIGFPE)\\\", \\\"count\\\": 0}, {\\\"x\\\": \\\"C++17\\\", \\\"y\\\": \\\"compilation error\\\", \\\"count\\\": 4}, {\\\"x\\\": \\\"C++17\\\", \\\"y\\\": \\\"wrong answer\\\", \\\"count\\\": 32}, {\\\"x\\\": \\\"C++17\\\", \\\"y\\\": \\\"runtime error(SIGSEGV)\\\", \\\"count\\\": 0}, {\\\"x\\\": \\\"C++17\\\", \\\"y\\\": \\\"runtime error(SIGABRT)\\\", \\\"count\\\": 0}, {\\\"x\\\": \\\"C++17\\\", \\\"y\\\": \\\"runtime error(NZEC)\\\", \\\"count\\\": 0}, {\\\"x\\\": \\\"C++17\\\", \\\"y\\\": \\\"accepted\\\", \\\"count\\\": 53}, {\\\"x\\\": \\\"C++17\\\", \\\"y\\\": \\\"runtime error(SIGFPE)\\\", \\\"count\\\": 0}]}], \\\"config\\\": {\\\"axis\\\": {\\\"gridColor\\\": \\\"rgba(204,204,204,1.0)\\\", \\\"labelFont\\\": \\\"\\\\\\\"San Francisco\\\\\\\", HelveticaNeue, Arial\\\", \\\"labelFontSize\\\": 12, \\\"labelPadding\\\": 10, \\\"labelColor\\\": \\\"rgba(0,0,0,0.847)\\\", \\\"tickColor\\\": \\\"rgb(136,136,136)\\\", \\\"titleFont\\\": \\\"\\\\\\\"San Francisco\\\\\\\", HelveticaNeue, Arial\\\", \\\"titleFontWeight\\\": \\\"normal\\\", \\\"titlePadding\\\": 20, \\\"titleFontSize\\\": 14, \\\"titleColor\\\": \\\"rgba(0,0,0,0.847)\\\"}, \\\"axisY\\\": {\\\"minExtent\\\": 30}, \\\"legend\\\": {\\\"labelFont\\\": \\\"\\\\\\\"San Francisco\\\\\\\", HelveticaNeue, Arial\\\", \\\"labelColor\\\": \\\"rgba(0,0,0,0.847)\\\", \\\"titleFont\\\": \\\"\\\\\\\"San Francisco\\\\\\\", HelveticaNeue, Arial\\\", \\\"cornerRadius\\\": 30, \\\"gradientLength\\\": 608, \\\"titleColor\\\": \\\"rgba(0,0,0,0.847)\\\"}, \\\"range\\\": {\\\"heatmap\\\": {\\\"scheme\\\": \\\"greenblue\\\"}}, \\\"style\\\": {\\\"rect\\\": {\\\"stroke\\\": \\\"rgba(200, 200, 200, 0.5)\\\"}, \\\"cell\\\": {\\\"stroke\\\": \\\"transparent\\\"}, \\\"group-title\\\": {\\\"fontSize\\\": 29, \\\"font\\\": \\\"HelveticaNeue, Arial\\\", \\\"fontWeight\\\": \\\"normal\\\", \\\"fill\\\": \\\"rgba(0,0,0,0.65)\\\"}}, \\\"title\\\": {\\\"color\\\": \\\"rgba(0,0,0,0.847)\\\", \\\"font\\\": \\\"\\\\\\\"San Francisco\\\\\\\", HelveticaNeue, Arial\\\", \\\"fontSize\\\": 18, \\\"fontWeight\\\": \\\"normal\\\", \\\"offset\\\": 30}}}\";                                 var vega_json_parsed = JSON.parse(vega_json);                                 var toolTipOpts = {                                     showAllFields: true                                 };                                 if(vega_json_parsed[\"metadata\"] != null){                                     if(vega_json_parsed[\"metadata\"][\"bubbleOpts\"] != null){                                         toolTipOpts = vega_json_parsed[\"metadata\"][\"bubbleOpts\"];                                     };                                 };                                 vegaEmbed(\"#vis\", vega_json_parsed).then(function (result) {                                     vegaTooltip.vega(result.view, toolTipOpts);                                  });                             </script>                         </body>                     </html>' src=\"demo_iframe_srcdoc.htm\">                         <p>Your browser does not support iframes.</p>                     </iframe>                 </body>             </html>"
      ],
      "text/plain": [
       "<IPython.core.display.HTML object>"
      ]
     },
     "metadata": {},
     "output_type": "display_data"
    }
   ],
   "source": [
    "tc.show(sf[1:866]['language'],sf[1:866]['result'])"
   ]
  },
  {
   "cell_type": "code",
   "execution_count": 10,
   "metadata": {},
   "outputs": [
    {
     "data": {
      "text/plain": [
       "dtype: str\n",
       "Rows: 866\n",
       "['4', '5', '3', '2', '2', '1', '2', '1', '2', '2', '2', '2', '2', '2', '2', '2', '2', '2', '0', '0', '4', '5', '1', '1', '2', '3', '2', '2', '1', '4', '3', '3', '4', '2', '3', '2', '3', '2', '4', '4', '4', '4', '3', '3', '4', '3', '2', '4', '1', '2', '2', '1', '2', '2', '2', '4', '2', '3', '2', '4', '2', '3', '2', '3', '2', '4', '1', '1', '3', '4', '4', '3', '1', '0', '2', '1', '2', '1', '4', '2', '1', '4', '1', '1', '1', '1', '1', '3', '3', '3', '3', '3', '3', '3', '3', '4', '4', '4', '2', '1', ... ]"
      ]
     },
     "execution_count": 10,
     "metadata": {},
     "output_type": "execute_result"
    }
   ],
   "source": [
    "sf['star']"
   ]
  },
  {
   "cell_type": "code",
   "execution_count": 8,
   "metadata": {},
   "outputs": [
    {
     "data": {
      "text/plain": [
       "dtype: str\n",
       "Rows: 866\n",
       "['C++17', 'JAVA', 'C++14', 'C++14', 'C++14', 'PYTH 3.6', 'C++14', 'C++14', 'C++14', 'C++14', 'C++14', 'C++14', 'C++14', 'C++14', 'C++14', 'C++14', 'C++14', 'C++14', 'C', 'C', 'C++17', 'C++14', 'C++14', 'C++17', 'C++17', 'C++14', 'JAVA', 'PYTH 3.6', 'PYTH 3.6', 'C++14', 'C++14', 'C++14', 'C++14', 'C++14', 'PYTH 3.6', 'PYTH 3.6', 'C++14', 'C++14', 'C++14', 'C++14', 'C++14', 'C++14', 'C++14', 'C++14', 'C++14', 'JAVA', 'PYTH 3.6', 'C++14', 'C', 'JAVA', 'C++14', 'C++14', 'C', 'C++14', 'C++14', 'C++14', 'C', 'C++14', 'PYTH 3.6', 'C++14', 'C++14', 'PYTH 3.6', 'C++14', 'C++14', 'PYPY3', 'C++14', 'PYTH 3.6', 'PYTH 3.6', 'PYPY3', 'C++14', 'C++14', 'JAVA', 'C++17', 'PYTH 3.6', 'C++14', 'PYTH 3.6', 'C++14', 'PYTH 3.6', 'C++14', 'C++14', 'PYTH 3.6', 'C++14', 'JAVA', 'JAVA', 'JAVA', 'JAVA', 'JAVA', 'C++14', 'C++14', 'C++14', 'C++14', 'C++14', 'C++14', 'C++14', 'C++14', 'JAVA', 'C++14', 'C++14', 'C++14', 'PYTH 3.6', ... ]"
      ]
     },
     "execution_count": 8,
     "metadata": {},
     "output_type": "execute_result"
    }
   ],
   "source": [
    "sf['language']"
   ]
  },
  {
   "cell_type": "code",
   "execution_count": 9,
   "metadata": {},
   "outputs": [],
   "source": [
    "sf['star'] = sf['star'].astype(str)"
   ]
  },
  {
   "cell_type": "code",
   "execution_count": 13,
   "metadata": {},
   "outputs": [
    {
     "data": {
      "text/html": [
       "<pre>Materializing X axis SArray</pre>"
      ],
      "text/plain": [
       "Materializing X axis SArray"
      ]
     },
     "metadata": {},
     "output_type": "display_data"
    },
    {
     "data": {
      "text/html": [
       "<pre>Materializing Y axis SArray</pre>"
      ],
      "text/plain": [
       "Materializing Y axis SArray"
      ]
     },
     "metadata": {},
     "output_type": "display_data"
    },
    {
     "data": {
      "text/html": [
       "<html>                 <body>                     <iframe style=\"border:0;margin:0\" width=\"920\" height=\"770\" srcdoc='<html lang=\"en\">                         <head>                             <script src=\"https://cdnjs.cloudflare.com/ajax/libs/vega/5.4.0/vega.js\"></script>                             <script src=\"https://cdnjs.cloudflare.com/ajax/libs/vega-embed/4.0.0/vega-embed.js\"></script>                             <script src=\"https://cdnjs.cloudflare.com/ajax/libs/vega-tooltip/0.5.1/vega-tooltip.min.js\"></script>                             <link rel=\"stylesheet\" type=\"text/css\" href=\"https://cdnjs.cloudflare.com/ajax/libs/vega-tooltip/0.5.1/vega-tooltip.min.css\">                             <style>                             .vega-actions > a{                                 color:white;                                 text-decoration: none;                                 font-family: \"Arial\";                                 cursor:pointer;                                 padding:5px;                                 background:#AAAAAA;                                 border-radius:4px;                                 padding-left:10px;                                 padding-right:10px;                                 margin-right:5px;                             }                             .vega-actions{                                 margin-top:20px;                                 text-align:center                             }                            .vega-actions > a{                                 background:#999999;                            }                             </style>                         </head>                         <body>                             <div id=\"vis\">                             </div>                             <script>                                 var vega_json = \"{\\\"$schema\\\": \\\"https://vega.github.io/schema/vega/v4.json\\\", \\\"autosize\\\": {\\\"type\\\": \\\"fit\\\", \\\"resize\\\": false, \\\"contains\\\": \\\"padding\\\"}, \\\"axes\\\": [{\\\"scale\\\": \\\"x\\\", \\\"title\\\": \\\"X\\\", \\\"tickCount\\\": {\\\"signal\\\": \\\"min(ceil(width/40), 60)\\\"}, \\\"zindex\\\": 1, \\\"labelOverlap\\\": true, \\\"encode\\\": {\\\"labels\\\": {\\\"update\\\": {\\\"align\\\": {\\\"value\\\": \\\"right\\\"}, \\\"angle\\\": {\\\"value\\\": 270}, \\\"baseline\\\": {\\\"value\\\": \\\"middle\\\"}}}}, \\\"orient\\\": \\\"bottom\\\"}, {\\\"scale\\\": \\\"y\\\", \\\"title\\\": \\\"Y\\\", \\\"tickCount\\\": {\\\"signal\\\": \\\"min(ceil(height/40), 40)\\\"}, \\\"zindex\\\": 1, \\\"labelOverlap\\\": true, \\\"orient\\\": \\\"left\\\"}], \\\"legends\\\": [{\\\"titlePadding\\\": 4, \\\"direction\\\": \\\"horizontal\\\", \\\"title\\\": \\\"Count\\\", \\\"titleFontSize\\\": 12, \\\"gradientLength\\\": {\\\"signal\\\": \\\"width\\\"}, \\\"type\\\": \\\"gradient\\\", \\\"orient\\\": \\\"top\\\", \\\"fill\\\": \\\"color\\\"}], \\\"title\\\": \\\"X vs. Y\\\", \\\"scales\\\": [{\\\"range\\\": [0, {\\\"signal\\\": \\\"width\\\"}], \\\"type\\\": \\\"band\\\", \\\"domain\\\": {\\\"data\\\": \\\"source_2\\\", \\\"field\\\": \\\"x\\\", \\\"sort\\\": true}, \\\"zero\\\": false, \\\"name\\\": \\\"x\\\"}, {\\\"range\\\": [{\\\"signal\\\": \\\"height\\\"}, 0], \\\"type\\\": \\\"band\\\", \\\"domain\\\": {\\\"data\\\": \\\"source_2\\\", \\\"field\\\": \\\"y\\\", \\\"sort\\\": true}, \\\"zero\\\": false, \\\"name\\\": \\\"y\\\"}, {\\\"domain\\\": {\\\"field\\\": \\\"count\\\", \\\"data\\\": \\\"source_2\\\"}, \\\"name\\\": \\\"color\\\", \\\"zero\\\": false, \\\"range\\\": \\\"heatmap\\\", \\\"type\\\": \\\"sequential\\\", \\\"nice\\\": false}], \\\"height\\\": 550, \\\"padding\\\": 8, \\\"width\\\": 720, \\\"marks\\\": [{\\\"encode\\\": {\\\"update\\\": {\\\"fill\\\": {\\\"field\\\": \\\"count\\\", \\\"scale\\\": \\\"color\\\"}}, \\\"enter\\\": {\\\"y\\\": {\\\"field\\\": \\\"y\\\", \\\"scale\\\": \\\"y\\\"}, \\\"x\\\": {\\\"field\\\": \\\"x\\\", \\\"scale\\\": \\\"x\\\"}, \\\"height\\\": {\\\"band\\\": true, \\\"scale\\\": \\\"y\\\"}, \\\"width\\\": {\\\"band\\\": true, \\\"scale\\\": \\\"x\\\"}}}, \\\"from\\\": {\\\"data\\\": \\\"source_2\\\"}, \\\"type\\\": \\\"rect\\\"}], \\\"data\\\": [{\\\"name\\\": \\\"source_2\\\", \\\"values\\\": [{\\\"x\\\": \\\"4\\\", \\\"y\\\": \\\"C\\\", \\\"count\\\": 1}, {\\\"x\\\": \\\"4\\\", \\\"y\\\": \\\"PYPY3\\\", \\\"count\\\": 2}, {\\\"x\\\": \\\"4\\\", \\\"y\\\": \\\"PYTH 3.6\\\", \\\"count\\\": 5}, {\\\"x\\\": \\\"4\\\", \\\"y\\\": \\\"JAVA\\\", \\\"count\\\": 3}, {\\\"x\\\": \\\"4\\\", \\\"y\\\": \\\"C++17\\\", \\\"count\\\": 4}, {\\\"x\\\": \\\"4\\\", \\\"y\\\": \\\"C++14\\\", \\\"count\\\": 60}, {\\\"x\\\": \\\"1\\\", \\\"y\\\": \\\"C\\\", \\\"count\\\": 4}, {\\\"x\\\": \\\"1\\\", \\\"y\\\": \\\"PYPY3\\\", \\\"count\\\": 1}, {\\\"x\\\": \\\"1\\\", \\\"y\\\": \\\"PYTH 3.6\\\", \\\"count\\\": 25}, {\\\"x\\\": \\\"1\\\", \\\"y\\\": \\\"JAVA\\\", \\\"count\\\": 13}, {\\\"x\\\": \\\"1\\\", \\\"y\\\": \\\"C++17\\\", \\\"count\\\": 2}, {\\\"x\\\": \\\"1\\\", \\\"y\\\": \\\"C++14\\\", \\\"count\\\": 38}, {\\\"x\\\": \\\"5\\\", \\\"y\\\": \\\"C\\\", \\\"count\\\": 0}, {\\\"x\\\": \\\"5\\\", \\\"y\\\": \\\"PYPY3\\\", \\\"count\\\": 0}, {\\\"x\\\": \\\"5\\\", \\\"y\\\": \\\"PYTH 3.6\\\", \\\"count\\\": 1}, {\\\"x\\\": \\\"5\\\", \\\"y\\\": \\\"JAVA\\\", \\\"count\\\": 1}, {\\\"x\\\": \\\"5\\\", \\\"y\\\": \\\"C++17\\\", \\\"count\\\": 0}, {\\\"x\\\": \\\"5\\\", \\\"y\\\": \\\"C++14\\\", \\\"count\\\": 7}, {\\\"x\\\": \\\"0\\\", \\\"y\\\": \\\"C\\\", \\\"count\\\": 14}, {\\\"x\\\": \\\"0\\\", \\\"y\\\": \\\"PYPY3\\\", \\\"count\\\": 0}, {\\\"x\\\": \\\"0\\\", \\\"y\\\": \\\"PYTH 3.6\\\", \\\"count\\\": 14}, {\\\"x\\\": \\\"0\\\", \\\"y\\\": \\\"JAVA\\\", \\\"count\\\": 14}, {\\\"x\\\": \\\"0\\\", \\\"y\\\": \\\"C++17\\\", \\\"count\\\": 49}, {\\\"x\\\": \\\"0\\\", \\\"y\\\": \\\"C++14\\\", \\\"count\\\": 65}, {\\\"x\\\": \\\"3\\\", \\\"y\\\": \\\"C\\\", \\\"count\\\": 4}, {\\\"x\\\": \\\"3\\\", \\\"y\\\": \\\"PYPY3\\\", \\\"count\\\": 2}, {\\\"x\\\": \\\"3\\\", \\\"y\\\": \\\"PYTH 3.6\\\", \\\"count\\\": 34}, {\\\"x\\\": \\\"3\\\", \\\"y\\\": \\\"JAVA\\\", \\\"count\\\": 16}, {\\\"x\\\": \\\"3\\\", \\\"y\\\": \\\"C++17\\\", \\\"count\\\": 8}, {\\\"x\\\": \\\"3\\\", \\\"y\\\": \\\"C++14\\\", \\\"count\\\": 127}, {\\\"x\\\": \\\"6\\\", \\\"y\\\": \\\"C\\\", \\\"count\\\": 0}, {\\\"x\\\": \\\"6\\\", \\\"y\\\": \\\"PYPY3\\\", \\\"count\\\": 1}, {\\\"x\\\": \\\"6\\\", \\\"y\\\": \\\"PYTH 3.6\\\", \\\"count\\\": 0}, {\\\"x\\\": \\\"6\\\", \\\"y\\\": \\\"JAVA\\\", \\\"count\\\": 0}, {\\\"x\\\": \\\"6\\\", \\\"y\\\": \\\"C++17\\\", \\\"count\\\": 0}, {\\\"x\\\": \\\"6\\\", \\\"y\\\": \\\"C++14\\\", \\\"count\\\": 0}, {\\\"x\\\": \\\"2\\\", \\\"y\\\": \\\"C\\\", \\\"count\\\": 30}, {\\\"x\\\": \\\"2\\\", \\\"y\\\": \\\"PYPY3\\\", \\\"count\\\": 1}, {\\\"x\\\": \\\"2\\\", \\\"y\\\": \\\"PYTH 3.6\\\", \\\"count\\\": 52}, {\\\"x\\\": \\\"2\\\", \\\"y\\\": \\\"JAVA\\\", \\\"count\\\": 36}, {\\\"x\\\": \\\"2\\\", \\\"y\\\": \\\"C++17\\\", \\\"count\\\": 26}, {\\\"x\\\": \\\"2\\\", \\\"y\\\": \\\"C++14\\\", \\\"count\\\": 205}]}], \\\"config\\\": {\\\"axis\\\": {\\\"gridColor\\\": \\\"rgba(204,204,204,1.0)\\\", \\\"labelFont\\\": \\\"\\\\\\\"San Francisco\\\\\\\", HelveticaNeue, Arial\\\", \\\"labelFontSize\\\": 12, \\\"labelPadding\\\": 10, \\\"labelColor\\\": \\\"rgba(0,0,0,0.847)\\\", \\\"tickColor\\\": \\\"rgb(136,136,136)\\\", \\\"titleFont\\\": \\\"\\\\\\\"San Francisco\\\\\\\", HelveticaNeue, Arial\\\", \\\"titleFontWeight\\\": \\\"normal\\\", \\\"titlePadding\\\": 20, \\\"titleFontSize\\\": 14, \\\"titleColor\\\": \\\"rgba(0,0,0,0.847)\\\"}, \\\"axisY\\\": {\\\"minExtent\\\": 30}, \\\"legend\\\": {\\\"labelFont\\\": \\\"\\\\\\\"San Francisco\\\\\\\", HelveticaNeue, Arial\\\", \\\"labelColor\\\": \\\"rgba(0,0,0,0.847)\\\", \\\"titleFont\\\": \\\"\\\\\\\"San Francisco\\\\\\\", HelveticaNeue, Arial\\\", \\\"cornerRadius\\\": 30, \\\"gradientLength\\\": 608, \\\"titleColor\\\": \\\"rgba(0,0,0,0.847)\\\"}, \\\"range\\\": {\\\"heatmap\\\": {\\\"scheme\\\": \\\"greenblue\\\"}}, \\\"style\\\": {\\\"rect\\\": {\\\"stroke\\\": \\\"rgba(200, 200, 200, 0.5)\\\"}, \\\"cell\\\": {\\\"stroke\\\": \\\"transparent\\\"}, \\\"group-title\\\": {\\\"fontSize\\\": 29, \\\"font\\\": \\\"HelveticaNeue, Arial\\\", \\\"fontWeight\\\": \\\"normal\\\", \\\"fill\\\": \\\"rgba(0,0,0,0.65)\\\"}}, \\\"title\\\": {\\\"color\\\": \\\"rgba(0,0,0,0.847)\\\", \\\"font\\\": \\\"\\\\\\\"San Francisco\\\\\\\", HelveticaNeue, Arial\\\", \\\"fontSize\\\": 18, \\\"fontWeight\\\": \\\"normal\\\", \\\"offset\\\": 30}}}\";                                 var vega_json_parsed = JSON.parse(vega_json);                                 var toolTipOpts = {                                     showAllFields: true                                 };                                 if(vega_json_parsed[\"metadata\"] != null){                                     if(vega_json_parsed[\"metadata\"][\"bubbleOpts\"] != null){                                         toolTipOpts = vega_json_parsed[\"metadata\"][\"bubbleOpts\"];                                     };                                 };                                 vegaEmbed(\"#vis\", vega_json_parsed).then(function (result) {                                     vegaTooltip.vega(result.view, toolTipOpts);                                  });                             </script>                         </body>                     </html>' src=\"demo_iframe_srcdoc.htm\">                         <p>Your browser does not support iframes.</p>                     </iframe>                 </body>             </html>"
      ],
      "text/plain": [
       "<IPython.core.display.HTML object>"
      ]
     },
     "metadata": {},
     "output_type": "display_data"
    }
   ],
   "source": [
    "tc.show(sf[1:866]['star'],sf[1:866]['language'])"
   ]
  },
  {
   "cell_type": "code",
   "execution_count": 12,
   "metadata": {},
   "outputs": [
    {
     "data": {
      "text/html": [
       "<pre>Materializing X axis SArray</pre>"
      ],
      "text/plain": [
       "Materializing X axis SArray"
      ]
     },
     "metadata": {},
     "output_type": "display_data"
    },
    {
     "data": {
      "text/html": [
       "<pre>Materializing Y axis SArray</pre>"
      ],
      "text/plain": [
       "Materializing Y axis SArray"
      ]
     },
     "metadata": {},
     "output_type": "display_data"
    },
    {
     "data": {
      "text/html": [
       "<html>                 <body>                     <iframe style=\"border:0;margin:0\" width=\"920\" height=\"770\" srcdoc='<html lang=\"en\">                         <head>                             <script src=\"https://cdnjs.cloudflare.com/ajax/libs/vega/5.4.0/vega.js\"></script>                             <script src=\"https://cdnjs.cloudflare.com/ajax/libs/vega-embed/4.0.0/vega-embed.js\"></script>                             <script src=\"https://cdnjs.cloudflare.com/ajax/libs/vega-tooltip/0.5.1/vega-tooltip.min.js\"></script>                             <link rel=\"stylesheet\" type=\"text/css\" href=\"https://cdnjs.cloudflare.com/ajax/libs/vega-tooltip/0.5.1/vega-tooltip.min.css\">                             <style>                             .vega-actions > a{                                 color:white;                                 text-decoration: none;                                 font-family: \"Arial\";                                 cursor:pointer;                                 padding:5px;                                 background:#AAAAAA;                                 border-radius:4px;                                 padding-left:10px;                                 padding-right:10px;                                 margin-right:5px;                             }                             .vega-actions{                                 margin-top:20px;                                 text-align:center                             }                            .vega-actions > a{                                 background:#999999;                            }                             </style>                         </head>                         <body>                             <div id=\"vis\">                             </div>                             <script>                                 var vega_json = \"{\\\"$schema\\\": \\\"https://vega.github.io/schema/vega/v4.json\\\", \\\"autosize\\\": {\\\"type\\\": \\\"fit\\\", \\\"resize\\\": false, \\\"contains\\\": \\\"padding\\\"}, \\\"axes\\\": [{\\\"scale\\\": \\\"x\\\", \\\"title\\\": \\\"X\\\", \\\"tickCount\\\": {\\\"signal\\\": \\\"min(ceil(width/40), 60)\\\"}, \\\"zindex\\\": 1, \\\"labelOverlap\\\": true, \\\"encode\\\": {\\\"labels\\\": {\\\"update\\\": {\\\"align\\\": {\\\"value\\\": \\\"right\\\"}, \\\"angle\\\": {\\\"value\\\": 270}, \\\"baseline\\\": {\\\"value\\\": \\\"middle\\\"}}}}, \\\"orient\\\": \\\"bottom\\\"}, {\\\"scale\\\": \\\"y\\\", \\\"title\\\": \\\"Y\\\", \\\"tickCount\\\": {\\\"signal\\\": \\\"min(ceil(height/40), 40)\\\"}, \\\"zindex\\\": 1, \\\"labelOverlap\\\": true, \\\"orient\\\": \\\"left\\\"}], \\\"legends\\\": [{\\\"titlePadding\\\": 4, \\\"direction\\\": \\\"horizontal\\\", \\\"title\\\": \\\"Count\\\", \\\"titleFontSize\\\": 12, \\\"gradientLength\\\": {\\\"signal\\\": \\\"width\\\"}, \\\"type\\\": \\\"gradient\\\", \\\"orient\\\": \\\"top\\\", \\\"fill\\\": \\\"color\\\"}], \\\"title\\\": \\\"X vs. Y\\\", \\\"scales\\\": [{\\\"range\\\": [0, {\\\"signal\\\": \\\"width\\\"}], \\\"type\\\": \\\"band\\\", \\\"domain\\\": {\\\"data\\\": \\\"source_2\\\", \\\"field\\\": \\\"x\\\", \\\"sort\\\": true}, \\\"zero\\\": false, \\\"name\\\": \\\"x\\\"}, {\\\"range\\\": [{\\\"signal\\\": \\\"height\\\"}, 0], \\\"type\\\": \\\"band\\\", \\\"domain\\\": {\\\"data\\\": \\\"source_2\\\", \\\"field\\\": \\\"y\\\", \\\"sort\\\": true}, \\\"zero\\\": false, \\\"name\\\": \\\"y\\\"}, {\\\"domain\\\": {\\\"field\\\": \\\"count\\\", \\\"data\\\": \\\"source_2\\\"}, \\\"name\\\": \\\"color\\\", \\\"zero\\\": false, \\\"range\\\": \\\"heatmap\\\", \\\"type\\\": \\\"sequential\\\", \\\"nice\\\": false}], \\\"height\\\": 550, \\\"padding\\\": 8, \\\"width\\\": 720, \\\"marks\\\": [{\\\"encode\\\": {\\\"update\\\": {\\\"fill\\\": {\\\"field\\\": \\\"count\\\", \\\"scale\\\": \\\"color\\\"}}, \\\"enter\\\": {\\\"y\\\": {\\\"field\\\": \\\"y\\\", \\\"scale\\\": \\\"y\\\"}, \\\"x\\\": {\\\"field\\\": \\\"x\\\", \\\"scale\\\": \\\"x\\\"}, \\\"height\\\": {\\\"band\\\": true, \\\"scale\\\": \\\"y\\\"}, \\\"width\\\": {\\\"band\\\": true, \\\"scale\\\": \\\"x\\\"}}}, \\\"from\\\": {\\\"data\\\": \\\"source_2\\\"}, \\\"type\\\": \\\"rect\\\"}], \\\"data\\\": [{\\\"name\\\": \\\"source_2\\\", \\\"values\\\": [{\\\"x\\\": \\\"2\\\", \\\"y\\\": \\\"runtime error(SIGFPE)\\\", \\\"count\\\": 4}, {\\\"x\\\": \\\"2\\\", \\\"y\\\": \\\"runtime error(NZEC)\\\", \\\"count\\\": 9}, {\\\"x\\\": \\\"2\\\", \\\"y\\\": \\\"runtime error(SIGSEGV)\\\", \\\"count\\\": 3}, {\\\"x\\\": \\\"2\\\", \\\"y\\\": \\\"accepted\\\", \\\"count\\\": 194}, {\\\"x\\\": \\\"2\\\", \\\"y\\\": \\\"compilation error\\\", \\\"count\\\": 14}, {\\\"x\\\": \\\"2\\\", \\\"y\\\": \\\"wrong answer\\\", \\\"count\\\": 126}, {\\\"x\\\": \\\"2\\\", \\\"y\\\": \\\"runtime error(SIGABRT)\\\", \\\"count\\\": 0}, {\\\"x\\\": \\\"1\\\", \\\"y\\\": \\\"runtime error(SIGFPE)\\\", \\\"count\\\": 0}, {\\\"x\\\": \\\"1\\\", \\\"y\\\": \\\"runtime error(NZEC)\\\", \\\"count\\\": 4}, {\\\"x\\\": \\\"1\\\", \\\"y\\\": \\\"runtime error(SIGSEGV)\\\", \\\"count\\\": 1}, {\\\"x\\\": \\\"1\\\", \\\"y\\\": \\\"accepted\\\", \\\"count\\\": 48}, {\\\"x\\\": \\\"1\\\", \\\"y\\\": \\\"compilation error\\\", \\\"count\\\": 9}, {\\\"x\\\": \\\"1\\\", \\\"y\\\": \\\"wrong answer\\\", \\\"count\\\": 21}, {\\\"x\\\": \\\"1\\\", \\\"y\\\": \\\"runtime error(SIGABRT)\\\", \\\"count\\\": 0}, {\\\"x\\\": \\\"3\\\", \\\"y\\\": \\\"runtime error(SIGFPE)\\\", \\\"count\\\": 0}, {\\\"x\\\": \\\"3\\\", \\\"y\\\": \\\"runtime error(NZEC)\\\", \\\"count\\\": 2}, {\\\"x\\\": \\\"3\\\", \\\"y\\\": \\\"runtime error(SIGSEGV)\\\", \\\"count\\\": 0}, {\\\"x\\\": \\\"3\\\", \\\"y\\\": \\\"accepted\\\", \\\"count\\\": 132}, {\\\"x\\\": \\\"3\\\", \\\"y\\\": \\\"compilation error\\\", \\\"count\\\": 8}, {\\\"x\\\": \\\"3\\\", \\\"y\\\": \\\"wrong answer\\\", \\\"count\\\": 49}, {\\\"x\\\": \\\"3\\\", \\\"y\\\": \\\"runtime error(SIGABRT)\\\", \\\"count\\\": 0}, {\\\"x\\\": \\\"0\\\", \\\"y\\\": \\\"runtime error(SIGFPE)\\\", \\\"count\\\": 0}, {\\\"x\\\": \\\"0\\\", \\\"y\\\": \\\"runtime error(NZEC)\\\", \\\"count\\\": 6}, {\\\"x\\\": \\\"0\\\", \\\"y\\\": \\\"runtime error(SIGSEGV)\\\", \\\"count\\\": 3}, {\\\"x\\\": \\\"0\\\", \\\"y\\\": \\\"accepted\\\", \\\"count\\\": 79}, {\\\"x\\\": \\\"0\\\", \\\"y\\\": \\\"compilation error\\\", \\\"count\\\": 7}, {\\\"x\\\": \\\"0\\\", \\\"y\\\": \\\"wrong answer\\\", \\\"count\\\": 60}, {\\\"x\\\": \\\"0\\\", \\\"y\\\": \\\"runtime error(SIGABRT)\\\", \\\"count\\\": 1}, {\\\"x\\\": \\\"4\\\", \\\"y\\\": \\\"runtime error(SIGFPE)\\\", \\\"count\\\": 0}, {\\\"x\\\": \\\"4\\\", \\\"y\\\": \\\"runtime error(NZEC)\\\", \\\"count\\\": 0}, {\\\"x\\\": \\\"4\\\", \\\"y\\\": \\\"runtime error(SIGSEGV)\\\", \\\"count\\\": 0}, {\\\"x\\\": \\\"4\\\", \\\"y\\\": \\\"accepted\\\", \\\"count\\\": 59}, {\\\"x\\\": \\\"4\\\", \\\"y\\\": \\\"compilation error\\\", \\\"count\\\": 3}, {\\\"x\\\": \\\"4\\\", \\\"y\\\": \\\"wrong answer\\\", \\\"count\\\": 13}, {\\\"x\\\": \\\"4\\\", \\\"y\\\": \\\"runtime error(SIGABRT)\\\", \\\"count\\\": 0}, {\\\"x\\\": \\\"5\\\", \\\"y\\\": \\\"runtime error(SIGFPE)\\\", \\\"count\\\": 0}, {\\\"x\\\": \\\"5\\\", \\\"y\\\": \\\"runtime error(NZEC)\\\", \\\"count\\\": 0}, {\\\"x\\\": \\\"5\\\", \\\"y\\\": \\\"runtime error(SIGSEGV)\\\", \\\"count\\\": 0}, {\\\"x\\\": \\\"5\\\", \\\"y\\\": \\\"accepted\\\", \\\"count\\\": 9}, {\\\"x\\\": \\\"5\\\", \\\"y\\\": \\\"compilation error\\\", \\\"count\\\": 0}, {\\\"x\\\": \\\"5\\\", \\\"y\\\": \\\"wrong answer\\\", \\\"count\\\": 0}, {\\\"x\\\": \\\"5\\\", \\\"y\\\": \\\"runtime error(SIGABRT)\\\", \\\"count\\\": 0}, {\\\"x\\\": \\\"6\\\", \\\"y\\\": \\\"runtime error(SIGFPE)\\\", \\\"count\\\": 0}, {\\\"x\\\": \\\"6\\\", \\\"y\\\": \\\"runtime error(NZEC)\\\", \\\"count\\\": 0}, {\\\"x\\\": \\\"6\\\", \\\"y\\\": \\\"runtime error(SIGSEGV)\\\", \\\"count\\\": 0}, {\\\"x\\\": \\\"6\\\", \\\"y\\\": \\\"accepted\\\", \\\"count\\\": 1}, {\\\"x\\\": \\\"6\\\", \\\"y\\\": \\\"compilation error\\\", \\\"count\\\": 0}, {\\\"x\\\": \\\"6\\\", \\\"y\\\": \\\"wrong answer\\\", \\\"count\\\": 0}, {\\\"x\\\": \\\"6\\\", \\\"y\\\": \\\"runtime error(SIGABRT)\\\", \\\"count\\\": 0}]}], \\\"config\\\": {\\\"axis\\\": {\\\"gridColor\\\": \\\"rgba(204,204,204,1.0)\\\", \\\"labelFont\\\": \\\"\\\\\\\"San Francisco\\\\\\\", HelveticaNeue, Arial\\\", \\\"labelFontSize\\\": 12, \\\"labelPadding\\\": 10, \\\"labelColor\\\": \\\"rgba(0,0,0,0.847)\\\", \\\"tickColor\\\": \\\"rgb(136,136,136)\\\", \\\"titleFont\\\": \\\"\\\\\\\"San Francisco\\\\\\\", HelveticaNeue, Arial\\\", \\\"titleFontWeight\\\": \\\"normal\\\", \\\"titlePadding\\\": 20, \\\"titleFontSize\\\": 14, \\\"titleColor\\\": \\\"rgba(0,0,0,0.847)\\\"}, \\\"axisY\\\": {\\\"minExtent\\\": 30}, \\\"legend\\\": {\\\"labelFont\\\": \\\"\\\\\\\"San Francisco\\\\\\\", HelveticaNeue, Arial\\\", \\\"labelColor\\\": \\\"rgba(0,0,0,0.847)\\\", \\\"titleFont\\\": \\\"\\\\\\\"San Francisco\\\\\\\", HelveticaNeue, Arial\\\", \\\"cornerRadius\\\": 30, \\\"gradientLength\\\": 608, \\\"titleColor\\\": \\\"rgba(0,0,0,0.847)\\\"}, \\\"range\\\": {\\\"heatmap\\\": {\\\"scheme\\\": \\\"greenblue\\\"}}, \\\"style\\\": {\\\"rect\\\": {\\\"stroke\\\": \\\"rgba(200, 200, 200, 0.5)\\\"}, \\\"cell\\\": {\\\"stroke\\\": \\\"transparent\\\"}, \\\"group-title\\\": {\\\"fontSize\\\": 29, \\\"font\\\": \\\"HelveticaNeue, Arial\\\", \\\"fontWeight\\\": \\\"normal\\\", \\\"fill\\\": \\\"rgba(0,0,0,0.65)\\\"}}, \\\"title\\\": {\\\"color\\\": \\\"rgba(0,0,0,0.847)\\\", \\\"font\\\": \\\"\\\\\\\"San Francisco\\\\\\\", HelveticaNeue, Arial\\\", \\\"fontSize\\\": 18, \\\"fontWeight\\\": \\\"normal\\\", \\\"offset\\\": 30}}}\";                                 var vega_json_parsed = JSON.parse(vega_json);                                 var toolTipOpts = {                                     showAllFields: true                                 };                                 if(vega_json_parsed[\"metadata\"] != null){                                     if(vega_json_parsed[\"metadata\"][\"bubbleOpts\"] != null){                                         toolTipOpts = vega_json_parsed[\"metadata\"][\"bubbleOpts\"];                                     };                                 };                                 vegaEmbed(\"#vis\", vega_json_parsed).then(function (result) {                                     vegaTooltip.vega(result.view, toolTipOpts);                                  });                             </script>                         </body>                     </html>' src=\"demo_iframe_srcdoc.htm\">                         <p>Your browser does not support iframes.</p>                     </iframe>                 </body>             </html>"
      ],
      "text/plain": [
       "<IPython.core.display.HTML object>"
      ]
     },
     "metadata": {},
     "output_type": "display_data"
    }
   ],
   "source": [
    "tc.show(sf[1:866]['star'],sf[1:866]['result'])"
   ]
  },
  {
   "cell_type": "code",
   "execution_count": 14,
   "metadata": {},
   "outputs": [
    {
     "data": {
      "text/html": [
       "<pre>Materializing X axis SArray</pre>"
      ],
      "text/plain": [
       "Materializing X axis SArray"
      ]
     },
     "metadata": {},
     "output_type": "display_data"
    },
    {
     "data": {
      "text/html": [
       "<pre>Materializing Y axis SArray</pre>"
      ],
      "text/plain": [
       "Materializing Y axis SArray"
      ]
     },
     "metadata": {},
     "output_type": "display_data"
    },
    {
     "data": {
      "text/html": [
       "<html>                 <body>                     <iframe style=\"border:0;margin:0\" width=\"920\" height=\"770\" srcdoc='<html lang=\"en\">                         <head>                             <script src=\"https://cdnjs.cloudflare.com/ajax/libs/vega/5.4.0/vega.js\"></script>                             <script src=\"https://cdnjs.cloudflare.com/ajax/libs/vega-embed/4.0.0/vega-embed.js\"></script>                             <script src=\"https://cdnjs.cloudflare.com/ajax/libs/vega-tooltip/0.5.1/vega-tooltip.min.js\"></script>                             <link rel=\"stylesheet\" type=\"text/css\" href=\"https://cdnjs.cloudflare.com/ajax/libs/vega-tooltip/0.5.1/vega-tooltip.min.css\">                             <style>                             .vega-actions > a{                                 color:white;                                 text-decoration: none;                                 font-family: \"Arial\";                                 cursor:pointer;                                 padding:5px;                                 background:#AAAAAA;                                 border-radius:4px;                                 padding-left:10px;                                 padding-right:10px;                                 margin-right:5px;                             }                             .vega-actions{                                 margin-top:20px;                                 text-align:center                             }                            .vega-actions > a{                                 background:#999999;                            }                             </style>                         </head>                         <body>                             <div id=\"vis\">                             </div>                             <script>                                 var vega_json = \"{\\\"$schema\\\": \\\"https://vega.github.io/schema/vega/v4.json\\\", \\\"autosize\\\": {\\\"type\\\": \\\"fit\\\", \\\"resize\\\": false, \\\"contains\\\": \\\"padding\\\"}, \\\"axes\\\": [{\\\"scale\\\": \\\"x\\\", \\\"title\\\": \\\"X\\\", \\\"tickCount\\\": {\\\"signal\\\": \\\"min(ceil(width/40), 60)\\\"}, \\\"zindex\\\": 1, \\\"labelOverlap\\\": true, \\\"encode\\\": {\\\"labels\\\": {\\\"update\\\": {\\\"align\\\": {\\\"value\\\": \\\"right\\\"}, \\\"angle\\\": {\\\"value\\\": 270}, \\\"baseline\\\": {\\\"value\\\": \\\"middle\\\"}}}}, \\\"orient\\\": \\\"bottom\\\"}, {\\\"scale\\\": \\\"y\\\", \\\"title\\\": \\\"Y\\\", \\\"tickCount\\\": {\\\"signal\\\": \\\"min(ceil(height/40), 40)\\\"}, \\\"zindex\\\": 1, \\\"labelOverlap\\\": true, \\\"orient\\\": \\\"left\\\"}], \\\"legends\\\": [{\\\"titlePadding\\\": 4, \\\"direction\\\": \\\"horizontal\\\", \\\"title\\\": \\\"Count\\\", \\\"titleFontSize\\\": 12, \\\"gradientLength\\\": {\\\"signal\\\": \\\"width\\\"}, \\\"type\\\": \\\"gradient\\\", \\\"orient\\\": \\\"top\\\", \\\"fill\\\": \\\"color\\\"}], \\\"title\\\": \\\"X vs. Y\\\", \\\"scales\\\": [{\\\"range\\\": [0, {\\\"signal\\\": \\\"width\\\"}], \\\"type\\\": \\\"band\\\", \\\"domain\\\": {\\\"data\\\": \\\"source_2\\\", \\\"field\\\": \\\"x\\\", \\\"sort\\\": true}, \\\"zero\\\": false, \\\"name\\\": \\\"x\\\"}, {\\\"range\\\": [{\\\"signal\\\": \\\"height\\\"}, 0], \\\"type\\\": \\\"band\\\", \\\"domain\\\": {\\\"data\\\": \\\"source_2\\\", \\\"field\\\": \\\"y\\\", \\\"sort\\\": true}, \\\"zero\\\": false, \\\"name\\\": \\\"y\\\"}, {\\\"domain\\\": {\\\"field\\\": \\\"count\\\", \\\"data\\\": \\\"source_2\\\"}, \\\"name\\\": \\\"color\\\", \\\"zero\\\": false, \\\"range\\\": \\\"heatmap\\\", \\\"type\\\": \\\"sequential\\\", \\\"nice\\\": false}], \\\"height\\\": 550, \\\"padding\\\": 8, \\\"width\\\": 720, \\\"marks\\\": [{\\\"encode\\\": {\\\"update\\\": {\\\"fill\\\": {\\\"field\\\": \\\"count\\\", \\\"scale\\\": \\\"color\\\"}}, \\\"enter\\\": {\\\"y\\\": {\\\"field\\\": \\\"y\\\", \\\"scale\\\": \\\"y\\\"}, \\\"x\\\": {\\\"field\\\": \\\"x\\\", \\\"scale\\\": \\\"x\\\"}, \\\"height\\\": {\\\"band\\\": true, \\\"scale\\\": \\\"y\\\"}, \\\"width\\\": {\\\"band\\\": true, \\\"scale\\\": \\\"x\\\"}}}, \\\"from\\\": {\\\"data\\\": \\\"source_2\\\"}, \\\"type\\\": \\\"rect\\\"}], \\\"data\\\": [{\\\"name\\\": \\\"source_2\\\", \\\"values\\\": [{\\\"x\\\": \\\"9.3M\\\", \\\"y\\\": \\\"C++17\\\", \\\"count\\\": 1}, {\\\"x\\\": \\\"9.3M\\\", \\\"y\\\": \\\"C++14\\\", \\\"count\\\": 0}, {\\\"x\\\": \\\"9.3M\\\", \\\"y\\\": \\\"C\\\", \\\"count\\\": 0}, {\\\"x\\\": \\\"9.3M\\\", \\\"y\\\": \\\"PYTH 3.6\\\", \\\"count\\\": 0}, {\\\"x\\\": \\\"9.3M\\\", \\\"y\\\": \\\"JAVA\\\", \\\"count\\\": 0}, {\\\"x\\\": \\\"9.3M\\\", \\\"y\\\": \\\"PYPY3\\\", \\\"count\\\": 0}, {\\\"x\\\": \\\"-\\\", \\\"y\\\": \\\"C++17\\\", \\\"count\\\": 4}, {\\\"x\\\": \\\"-\\\", \\\"y\\\": \\\"C++14\\\", \\\"count\\\": 20}, {\\\"x\\\": \\\"-\\\", \\\"y\\\": \\\"C\\\", \\\"count\\\": 3}, {\\\"x\\\": \\\"-\\\", \\\"y\\\": \\\"PYTH 3.6\\\", \\\"count\\\": 7}, {\\\"x\\\": \\\"-\\\", \\\"y\\\": \\\"JAVA\\\", \\\"count\\\": 7}, {\\\"x\\\": \\\"-\\\", \\\"y\\\": \\\"PYPY3\\\", \\\"count\\\": 0}, {\\\"x\\\": \\\"16.1M\\\", \\\"y\\\": \\\"C++17\\\", \\\"count\\\": 0}, {\\\"x\\\": \\\"16.1M\\\", \\\"y\\\": \\\"C++14\\\", \\\"count\\\": 1}, {\\\"x\\\": \\\"16.1M\\\", \\\"y\\\": \\\"C\\\", \\\"count\\\": 0}, {\\\"x\\\": \\\"16.1M\\\", \\\"y\\\": \\\"PYTH 3.6\\\", \\\"count\\\": 0}, {\\\"x\\\": \\\"16.1M\\\", \\\"y\\\": \\\"JAVA\\\", \\\"count\\\": 0}, {\\\"x\\\": \\\"16.1M\\\", \\\"y\\\": \\\"PYPY3\\\", \\\"count\\\": 0}, {\\\"x\\\": \\\"9.5M\\\", \\\"y\\\": \\\"C++17\\\", \\\"count\\\": 0}, {\\\"x\\\": \\\"9.5M\\\", \\\"y\\\": \\\"C++14\\\", \\\"count\\\": 0}, {\\\"x\\\": \\\"9.5M\\\", \\\"y\\\": \\\"C\\\", \\\"count\\\": 2}, {\\\"x\\\": \\\"9.5M\\\", \\\"y\\\": \\\"PYTH 3.6\\\", \\\"count\\\": 0}, {\\\"x\\\": \\\"9.5M\\\", \\\"y\\\": \\\"JAVA\\\", \\\"count\\\": 0}, {\\\"x\\\": \\\"9.5M\\\", \\\"y\\\": \\\"PYPY3\\\", \\\"count\\\": 0}, {\\\"x\\\": \\\"15.5M\\\", \\\"y\\\": \\\"C++17\\\", \\\"count\\\": 0}, {\\\"x\\\": \\\"15.5M\\\", \\\"y\\\": \\\"C++14\\\", \\\"count\\\": 1}, {\\\"x\\\": \\\"15.5M\\\", \\\"y\\\": \\\"C\\\", \\\"count\\\": 0}, {\\\"x\\\": \\\"15.5M\\\", \\\"y\\\": \\\"PYTH 3.6\\\", \\\"count\\\": 0}, {\\\"x\\\": \\\"15.5M\\\", \\\"y\\\": \\\"JAVA\\\", \\\"count\\\": 0}, {\\\"x\\\": \\\"15.5M\\\", \\\"y\\\": \\\"PYPY3\\\", \\\"count\\\": 0}, {\\\"x\\\": \\\"6.8M\\\", \\\"y\\\": \\\"C++17\\\", \\\"count\\\": 1}, {\\\"x\\\": \\\"6.8M\\\", \\\"y\\\": \\\"C++14\\\", \\\"count\\\": 0}, {\\\"x\\\": \\\"6.8M\\\", \\\"y\\\": \\\"C\\\", \\\"count\\\": 0}, {\\\"x\\\": \\\"6.8M\\\", \\\"y\\\": \\\"PYTH 3.6\\\", \\\"count\\\": 0}, {\\\"x\\\": \\\"6.8M\\\", \\\"y\\\": \\\"JAVA\\\", \\\"count\\\": 0}, {\\\"x\\\": \\\"6.8M\\\", \\\"y\\\": \\\"PYPY3\\\", \\\"count\\\": 0}, {\\\"x\\\": \\\"2.4M\\\", \\\"y\\\": \\\"C++17\\\", \\\"count\\\": 2}, {\\\"x\\\": \\\"2.4M\\\", \\\"y\\\": \\\"C++14\\\", \\\"count\\\": 0}, {\\\"x\\\": \\\"2.4M\\\", \\\"y\\\": \\\"C\\\", \\\"count\\\": 0}, {\\\"x\\\": \\\"2.4M\\\", \\\"y\\\": \\\"PYTH 3.6\\\", \\\"count\\\": 0}, {\\\"x\\\": \\\"2.4M\\\", \\\"y\\\": \\\"JAVA\\\", \\\"count\\\": 0}, {\\\"x\\\": \\\"2.4M\\\", \\\"y\\\": \\\"PYPY3\\\", \\\"count\\\": 0}, {\\\"x\\\": \\\"44.9M\\\", \\\"y\\\": \\\"C++17\\\", \\\"count\\\": 1}, {\\\"x\\\": \\\"44.9M\\\", \\\"y\\\": \\\"C++14\\\", \\\"count\\\": 0}, {\\\"x\\\": \\\"44.9M\\\", \\\"y\\\": \\\"C\\\", \\\"count\\\": 0}, {\\\"x\\\": \\\"44.9M\\\", \\\"y\\\": \\\"PYTH 3.6\\\", \\\"count\\\": 0}, {\\\"x\\\": \\\"44.9M\\\", \\\"y\\\": \\\"JAVA\\\", \\\"count\\\": 0}, {\\\"x\\\": \\\"44.9M\\\", \\\"y\\\": \\\"PYPY3\\\", \\\"count\\\": 0}, {\\\"x\\\": \\\"22.5M\\\", \\\"y\\\": \\\"C++17\\\", \\\"count\\\": 0}, {\\\"x\\\": \\\"22.5M\\\", \\\"y\\\": \\\"C++14\\\", \\\"count\\\": 1}, {\\\"x\\\": \\\"22.5M\\\", \\\"y\\\": \\\"C\\\", \\\"count\\\": 0}, {\\\"x\\\": \\\"22.5M\\\", \\\"y\\\": \\\"PYTH 3.6\\\", \\\"count\\\": 0}, {\\\"x\\\": \\\"22.5M\\\", \\\"y\\\": \\\"JAVA\\\", \\\"count\\\": 0}, {\\\"x\\\": \\\"22.5M\\\", \\\"y\\\": \\\"PYPY3\\\", \\\"count\\\": 0}, {\\\"x\\\": \\\"808M\\\", \\\"y\\\": \\\"C++17\\\", \\\"count\\\": 0}, {\\\"x\\\": \\\"808M\\\", \\\"y\\\": \\\"C++14\\\", \\\"count\\\": 1}, {\\\"x\\\": \\\"808M\\\", \\\"y\\\": \\\"C\\\", \\\"count\\\": 0}, {\\\"x\\\": \\\"808M\\\", \\\"y\\\": \\\"PYTH 3.6\\\", \\\"count\\\": 0}, {\\\"x\\\": \\\"808M\\\", \\\"y\\\": \\\"JAVA\\\", \\\"count\\\": 0}, {\\\"x\\\": \\\"808M\\\", \\\"y\\\": \\\"PYPY3\\\", \\\"count\\\": 0}, {\\\"x\\\": \\\"1819.5M\\\", \\\"y\\\": \\\"C++17\\\", \\\"count\\\": 0}, {\\\"x\\\": \\\"1819.5M\\\", \\\"y\\\": \\\"C++14\\\", \\\"count\\\": 1}, {\\\"x\\\": \\\"1819.5M\\\", \\\"y\\\": \\\"C\\\", \\\"count\\\": 0}, {\\\"x\\\": \\\"1819.5M\\\", \\\"y\\\": \\\"PYTH 3.6\\\", \\\"count\\\": 0}, {\\\"x\\\": \\\"1819.5M\\\", \\\"y\\\": \\\"JAVA\\\", \\\"count\\\": 0}, {\\\"x\\\": \\\"1819.5M\\\", \\\"y\\\": \\\"PYPY3\\\", \\\"count\\\": 0}, {\\\"x\\\": \\\"3.3M\\\", \\\"y\\\": \\\"C++17\\\", \\\"count\\\": 1}, {\\\"x\\\": \\\"3.3M\\\", \\\"y\\\": \\\"C++14\\\", \\\"count\\\": 0}, {\\\"x\\\": \\\"3.3M\\\", \\\"y\\\": \\\"C\\\", \\\"count\\\": 0}, {\\\"x\\\": \\\"3.3M\\\", \\\"y\\\": \\\"PYTH 3.6\\\", \\\"count\\\": 0}, {\\\"x\\\": \\\"3.3M\\\", \\\"y\\\": \\\"JAVA\\\", \\\"count\\\": 0}, {\\\"x\\\": \\\"3.3M\\\", \\\"y\\\": \\\"PYPY3\\\", \\\"count\\\": 0}, {\\\"x\\\": \\\"9.2M\\\", \\\"y\\\": \\\"C++17\\\", \\\"count\\\": 0}, {\\\"x\\\": \\\"9.2M\\\", \\\"y\\\": \\\"C++14\\\", \\\"count\\\": 0}, {\\\"x\\\": \\\"9.2M\\\", \\\"y\\\": \\\"C\\\", \\\"count\\\": 45}, {\\\"x\\\": \\\"9.2M\\\", \\\"y\\\": \\\"PYTH 3.6\\\", \\\"count\\\": 0}, {\\\"x\\\": \\\"9.2M\\\", \\\"y\\\": \\\"JAVA\\\", \\\"count\\\": 0}, {\\\"x\\\": \\\"9.2M\\\", \\\"y\\\": \\\"PYPY3\\\", \\\"count\\\": 0}, {\\\"x\\\": \\\"2133M\\\", \\\"y\\\": \\\"C++17\\\", \\\"count\\\": 0}, {\\\"x\\\": \\\"2133M\\\", \\\"y\\\": \\\"C++14\\\", \\\"count\\\": 0}, {\\\"x\\\": \\\"2133M\\\", \\\"y\\\": \\\"C\\\", \\\"count\\\": 0}, {\\\"x\\\": \\\"2133M\\\", \\\"y\\\": \\\"PYTH 3.6\\\", \\\"count\\\": 0}, {\\\"x\\\": \\\"2133M\\\", \\\"y\\\": \\\"JAVA\\\", \\\"count\\\": 74}, {\\\"x\\\": \\\"2133M\\\", \\\"y\\\": \\\"PYPY3\\\", \\\"count\\\": 0}, {\\\"x\\\": \\\"17.6M\\\", \\\"y\\\": \\\"C++17\\\", \\\"count\\\": 0}, {\\\"x\\\": \\\"17.6M\\\", \\\"y\\\": \\\"C++14\\\", \\\"count\\\": 0}, {\\\"x\\\": \\\"17.6M\\\", \\\"y\\\": \\\"C\\\", \\\"count\\\": 0}, {\\\"x\\\": \\\"17.6M\\\", \\\"y\\\": \\\"PYTH 3.6\\\", \\\"count\\\": 107}, {\\\"x\\\": \\\"17.6M\\\", \\\"y\\\": \\\"JAVA\\\", \\\"count\\\": 0}, {\\\"x\\\": \\\"17.6M\\\", \\\"y\\\": \\\"PYPY3\\\", \\\"count\\\": 0}, {\\\"x\\\": \\\"87.1M\\\", \\\"y\\\": \\\"C++17\\\", \\\"count\\\": 0}, {\\\"x\\\": \\\"87.1M\\\", \\\"y\\\": \\\"C++14\\\", \\\"count\\\": 0}, {\\\"x\\\": \\\"87.1M\\\", \\\"y\\\": \\\"C\\\", \\\"count\\\": 0}, {\\\"x\\\": \\\"87.1M\\\", \\\"y\\\": \\\"PYTH 3.6\\\", \\\"count\\\": 0}, {\\\"x\\\": \\\"87.1M\\\", \\\"y\\\": \\\"JAVA\\\", \\\"count\\\": 0}, {\\\"x\\\": \\\"87.1M\\\", \\\"y\\\": \\\"PYPY3\\\", \\\"count\\\": 5}, {\\\"x\\\": \\\"6.7M\\\", \\\"y\\\": \\\"C++17\\\", \\\"count\\\": 5}, {\\\"x\\\": \\\"6.7M\\\", \\\"y\\\": \\\"C++14\\\", \\\"count\\\": 0}, {\\\"x\\\": \\\"6.7M\\\", \\\"y\\\": \\\"C\\\", \\\"count\\\": 0}, {\\\"x\\\": \\\"6.7M\\\", \\\"y\\\": \\\"PYTH 3.6\\\", \\\"count\\\": 0}, {\\\"x\\\": \\\"6.7M\\\", \\\"y\\\": \\\"JAVA\\\", \\\"count\\\": 0}, {\\\"x\\\": \\\"6.7M\\\", \\\"y\\\": \\\"PYPY3\\\", \\\"count\\\": 0}, {\\\"x\\\": \\\"10.1M\\\", \\\"y\\\": \\\"C++17\\\", \\\"count\\\": 0}, {\\\"x\\\": \\\"10.1M\\\", \\\"y\\\": \\\"C++14\\\", \\\"count\\\": 0}, {\\\"x\\\": \\\"10.1M\\\", \\\"y\\\": \\\"C\\\", \\\"count\\\": 3}, {\\\"x\\\": \\\"10.1M\\\", \\\"y\\\": \\\"PYTH 3.6\\\", \\\"count\\\": 0}, {\\\"x\\\": \\\"10.1M\\\", \\\"y\\\": \\\"JAVA\\\", \\\"count\\\": 0}, {\\\"x\\\": \\\"10.1M\\\", \\\"y\\\": \\\"PYPY3\\\", \\\"count\\\": 0}, {\\\"x\\\": \\\"14.9M\\\", \\\"y\\\": \\\"C++17\\\", \\\"count\\\": 0}, {\\\"x\\\": \\\"14.9M\\\", \\\"y\\\": \\\"C++14\\\", \\\"count\\\": 407}, {\\\"x\\\": \\\"14.9M\\\", \\\"y\\\": \\\"C\\\", \\\"count\\\": 0}, {\\\"x\\\": \\\"14.9M\\\", \\\"y\\\": \\\"PYTH 3.6\\\", \\\"count\\\": 0}, {\\\"x\\\": \\\"14.9M\\\", \\\"y\\\": \\\"JAVA\\\", \\\"count\\\": 0}, {\\\"x\\\": \\\"14.9M\\\", \\\"y\\\": \\\"PYPY3\\\", \\\"count\\\": 0}, {\\\"x\\\": \\\"6M\\\", \\\"y\\\": \\\"C++17\\\", \\\"count\\\": 14}, {\\\"x\\\": \\\"6M\\\", \\\"y\\\": \\\"C++14\\\", \\\"count\\\": 0}, {\\\"x\\\": \\\"6M\\\", \\\"y\\\": \\\"C\\\", \\\"count\\\": 0}, {\\\"x\\\": \\\"6M\\\", \\\"y\\\": \\\"PYTH 3.6\\\", \\\"count\\\": 0}, {\\\"x\\\": \\\"6M\\\", \\\"y\\\": \\\"JAVA\\\", \\\"count\\\": 0}, {\\\"x\\\": \\\"6M\\\", \\\"y\\\": \\\"PYPY3\\\", \\\"count\\\": 0}, {\\\"x\\\": \\\"15.7M\\\", \\\"y\\\": \\\"C++17\\\", \\\"count\\\": 0}, {\\\"x\\\": \\\"15.7M\\\", \\\"y\\\": \\\"C++14\\\", \\\"count\\\": 55}, {\\\"x\\\": \\\"15.7M\\\", \\\"y\\\": \\\"C\\\", \\\"count\\\": 0}, {\\\"x\\\": \\\"15.7M\\\", \\\"y\\\": \\\"PYTH 3.6\\\", \\\"count\\\": 0}, {\\\"x\\\": \\\"15.7M\\\", \\\"y\\\": \\\"JAVA\\\", \\\"count\\\": 0}, {\\\"x\\\": \\\"15.7M\\\", \\\"y\\\": \\\"PYPY3\\\", \\\"count\\\": 0}, {\\\"x\\\": \\\"15.6M\\\", \\\"y\\\": \\\"C++17\\\", \\\"count\\\": 0}, {\\\"x\\\": \\\"15.6M\\\", \\\"y\\\": \\\"C++14\\\", \\\"count\\\": 6}, {\\\"x\\\": \\\"15.6M\\\", \\\"y\\\": \\\"C\\\", \\\"count\\\": 0}, {\\\"x\\\": \\\"15.6M\\\", \\\"y\\\": \\\"PYTH 3.6\\\", \\\"count\\\": 0}, {\\\"x\\\": \\\"15.6M\\\", \\\"y\\\": \\\"JAVA\\\", \\\"count\\\": 0}, {\\\"x\\\": \\\"15.6M\\\", \\\"y\\\": \\\"PYPY3\\\", \\\"count\\\": 0}, {\\\"x\\\": \\\"2197M\\\", \\\"y\\\": \\\"C++17\\\", \\\"count\\\": 0}, {\\\"x\\\": \\\"2197M\\\", \\\"y\\\": \\\"C++14\\\", \\\"count\\\": 0}, {\\\"x\\\": \\\"2197M\\\", \\\"y\\\": \\\"C\\\", \\\"count\\\": 0}, {\\\"x\\\": \\\"2197M\\\", \\\"y\\\": \\\"PYTH 3.6\\\", \\\"count\\\": 0}, {\\\"x\\\": \\\"2197M\\\", \\\"y\\\": \\\"JAVA\\\", \\\"count\\\": 2}, {\\\"x\\\": \\\"2197M\\\", \\\"y\\\": \\\"PYPY3\\\", \\\"count\\\": 0}, {\\\"x\\\": \\\"5.8M\\\", \\\"y\\\": \\\"C++17\\\", \\\"count\\\": 57}, {\\\"x\\\": \\\"5.8M\\\", \\\"y\\\": \\\"C++14\\\", \\\"count\\\": 0}, {\\\"x\\\": \\\"5.8M\\\", \\\"y\\\": \\\"C\\\", \\\"count\\\": 0}, {\\\"x\\\": \\\"5.8M\\\", \\\"y\\\": \\\"PYTH 3.6\\\", \\\"count\\\": 0}, {\\\"x\\\": \\\"5.8M\\\", \\\"y\\\": \\\"JAVA\\\", \\\"count\\\": 0}, {\\\"x\\\": \\\"5.8M\\\", \\\"y\\\": \\\"PYPY3\\\", \\\"count\\\": 0}, {\\\"x\\\": \\\"17.5M\\\", \\\"y\\\": \\\"C++17\\\", \\\"count\\\": 0}, {\\\"x\\\": \\\"17.5M\\\", \\\"y\\\": \\\"C++14\\\", \\\"count\\\": 0}, {\\\"x\\\": \\\"17.5M\\\", \\\"y\\\": \\\"C\\\", \\\"count\\\": 0}, {\\\"x\\\": \\\"17.5M\\\", \\\"y\\\": \\\"PYTH 3.6\\\", \\\"count\\\": 16}, {\\\"x\\\": \\\"17.5M\\\", \\\"y\\\": \\\"JAVA\\\", \\\"count\\\": 0}, {\\\"x\\\": \\\"17.5M\\\", \\\"y\\\": \\\"PYPY3\\\", \\\"count\\\": 0}, {\\\"x\\\": \\\"26M\\\", \\\"y\\\": \\\"C++17\\\", \\\"count\\\": 0}, {\\\"x\\\": \\\"26M\\\", \\\"y\\\": \\\"C++14\\\", \\\"count\\\": 1}, {\\\"x\\\": \\\"26M\\\", \\\"y\\\": \\\"C\\\", \\\"count\\\": 0}, {\\\"x\\\": \\\"26M\\\", \\\"y\\\": \\\"PYTH 3.6\\\", \\\"count\\\": 0}, {\\\"x\\\": \\\"26M\\\", \\\"y\\\": \\\"JAVA\\\", \\\"count\\\": 0}, {\\\"x\\\": \\\"26M\\\", \\\"y\\\": \\\"PYPY3\\\", \\\"count\\\": 0}, {\\\"x\\\": \\\"19.9M\\\", \\\"y\\\": \\\"C++17\\\", \\\"count\\\": 0}, {\\\"x\\\": \\\"19.9M\\\", \\\"y\\\": \\\"C++14\\\", \\\"count\\\": 1}, {\\\"x\\\": \\\"19.9M\\\", \\\"y\\\": \\\"C\\\", \\\"count\\\": 0}, {\\\"x\\\": \\\"19.9M\\\", \\\"y\\\": \\\"PYTH 3.6\\\", \\\"count\\\": 0}, {\\\"x\\\": \\\"19.9M\\\", \\\"y\\\": \\\"JAVA\\\", \\\"count\\\": 0}, {\\\"x\\\": \\\"19.9M\\\", \\\"y\\\": \\\"PYPY3\\\", \\\"count\\\": 0}, {\\\"x\\\": \\\"5.9M\\\", \\\"y\\\": \\\"C++17\\\", \\\"count\\\": 3}, {\\\"x\\\": \\\"5.9M\\\", \\\"y\\\": \\\"C++14\\\", \\\"count\\\": 0}, {\\\"x\\\": \\\"5.9M\\\", \\\"y\\\": \\\"C\\\", \\\"count\\\": 0}, {\\\"x\\\": \\\"5.9M\\\", \\\"y\\\": \\\"PYTH 3.6\\\", \\\"count\\\": 0}, {\\\"x\\\": \\\"5.9M\\\", \\\"y\\\": \\\"JAVA\\\", \\\"count\\\": 0}, {\\\"x\\\": \\\"5.9M\\\", \\\"y\\\": \\\"PYPY3\\\", \\\"count\\\": 0}, {\\\"x\\\": \\\"112.6M\\\", \\\"y\\\": \\\"C++17\\\", \\\"count\\\": 0}, {\\\"x\\\": \\\"112.6M\\\", \\\"y\\\": \\\"C++14\\\", \\\"count\\\": 0}, {\\\"x\\\": \\\"112.6M\\\", \\\"y\\\": \\\"C\\\", \\\"count\\\": 0}, {\\\"x\\\": \\\"112.6M\\\", \\\"y\\\": \\\"PYTH 3.6\\\", \\\"count\\\": 0}, {\\\"x\\\": \\\"112.6M\\\", \\\"y\\\": \\\"JAVA\\\", \\\"count\\\": 0}, {\\\"x\\\": \\\"112.6M\\\", \\\"y\\\": \\\"PYPY3\\\", \\\"count\\\": 1}, {\\\"x\\\": \\\"15M\\\", \\\"y\\\": \\\"C++17\\\", \\\"count\\\": 0}, {\\\"x\\\": \\\"15M\\\", \\\"y\\\": \\\"C++14\\\", \\\"count\\\": 3}, {\\\"x\\\": \\\"15M\\\", \\\"y\\\": \\\"C\\\", \\\"count\\\": 0}, {\\\"x\\\": \\\"15M\\\", \\\"y\\\": \\\"PYTH 3.6\\\", \\\"count\\\": 0}, {\\\"x\\\": \\\"15M\\\", \\\"y\\\": \\\"JAVA\\\", \\\"count\\\": 0}, {\\\"x\\\": \\\"15M\\\", \\\"y\\\": \\\"PYPY3\\\", \\\"count\\\": 0}, {\\\"x\\\": \\\"199.5M\\\", \\\"y\\\": \\\"C++17\\\", \\\"count\\\": 0}, {\\\"x\\\": \\\"199.5M\\\", \\\"y\\\": \\\"C++14\\\", \\\"count\\\": 1}, {\\\"x\\\": \\\"199.5M\\\", \\\"y\\\": \\\"C\\\", \\\"count\\\": 0}, {\\\"x\\\": \\\"199.5M\\\", \\\"y\\\": \\\"PYTH 3.6\\\", \\\"count\\\": 0}, {\\\"x\\\": \\\"199.5M\\\", \\\"y\\\": \\\"JAVA\\\", \\\"count\\\": 0}, {\\\"x\\\": \\\"199.5M\\\", \\\"y\\\": \\\"PYPY3\\\", \\\"count\\\": 0}, {\\\"x\\\": \\\"26.9M\\\", \\\"y\\\": \\\"C++17\\\", \\\"count\\\": 0}, {\\\"x\\\": \\\"26.9M\\\", \\\"y\\\": \\\"C++14\\\", \\\"count\\\": 0}, {\\\"x\\\": \\\"26.9M\\\", \\\"y\\\": \\\"C\\\", \\\"count\\\": 0}, {\\\"x\\\": \\\"26.9M\\\", \\\"y\\\": \\\"PYTH 3.6\\\", \\\"count\\\": 1}, {\\\"x\\\": \\\"26.9M\\\", \\\"y\\\": \\\"JAVA\\\", \\\"count\\\": 0}, {\\\"x\\\": \\\"26.9M\\\", \\\"y\\\": \\\"PYPY3\\\", \\\"count\\\": 0}, {\\\"x\\\": \\\"53.7M\\\", \\\"y\\\": \\\"C++17\\\", \\\"count\\\": 0}, {\\\"x\\\": \\\"53.7M\\\", \\\"y\\\": \\\"C++14\\\", \\\"count\\\": 1}, {\\\"x\\\": \\\"53.7M\\\", \\\"y\\\": \\\"C\\\", \\\"count\\\": 0}, {\\\"x\\\": \\\"53.7M\\\", \\\"y\\\": \\\"PYTH 3.6\\\", \\\"count\\\": 0}, {\\\"x\\\": \\\"53.7M\\\", \\\"y\\\": \\\"JAVA\\\", \\\"count\\\": 0}, {\\\"x\\\": \\\"53.7M\\\", \\\"y\\\": \\\"PYPY3\\\", \\\"count\\\": 0}, {\\\"x\\\": \\\"16.4M\\\", \\\"y\\\": \\\"C++17\\\", \\\"count\\\": 0}, {\\\"x\\\": \\\"16.4M\\\", \\\"y\\\": \\\"C++14\\\", \\\"count\\\": 2}, {\\\"x\\\": \\\"16.4M\\\", \\\"y\\\": \\\"C\\\", \\\"count\\\": 0}, {\\\"x\\\": \\\"16.4M\\\", \\\"y\\\": \\\"PYTH 3.6\\\", \\\"count\\\": 0}, {\\\"x\\\": \\\"16.4M\\\", \\\"y\\\": \\\"JAVA\\\", \\\"count\\\": 0}, {\\\"x\\\": \\\"16.4M\\\", \\\"y\\\": \\\"PYPY3\\\", \\\"count\\\": 0}, {\\\"x\\\": \\\"113.3M\\\", \\\"y\\\": \\\"C++17\\\", \\\"count\\\": 0}, {\\\"x\\\": \\\"113.3M\\\", \\\"y\\\": \\\"C++14\\\", \\\"count\\\": 0}, {\\\"x\\\": \\\"113.3M\\\", \\\"y\\\": \\\"C\\\", \\\"count\\\": 0}, {\\\"x\\\": \\\"113.3M\\\", \\\"y\\\": \\\"PYTH 3.6\\\", \\\"count\\\": 0}, {\\\"x\\\": \\\"113.3M\\\", \\\"y\\\": \\\"JAVA\\\", \\\"count\\\": 0}, {\\\"x\\\": \\\"113.3M\\\", \\\"y\\\": \\\"PYPY3\\\", \\\"count\\\": 1}]}], \\\"config\\\": {\\\"axis\\\": {\\\"gridColor\\\": \\\"rgba(204,204,204,1.0)\\\", \\\"labelFont\\\": \\\"\\\\\\\"San Francisco\\\\\\\", HelveticaNeue, Arial\\\", \\\"labelFontSize\\\": 12, \\\"labelPadding\\\": 10, \\\"labelColor\\\": \\\"rgba(0,0,0,0.847)\\\", \\\"tickColor\\\": \\\"rgb(136,136,136)\\\", \\\"titleFont\\\": \\\"\\\\\\\"San Francisco\\\\\\\", HelveticaNeue, Arial\\\", \\\"titleFontWeight\\\": \\\"normal\\\", \\\"titlePadding\\\": 20, \\\"titleFontSize\\\": 14, \\\"titleColor\\\": \\\"rgba(0,0,0,0.847)\\\"}, \\\"axisY\\\": {\\\"minExtent\\\": 30}, \\\"legend\\\": {\\\"labelFont\\\": \\\"\\\\\\\"San Francisco\\\\\\\", HelveticaNeue, Arial\\\", \\\"labelColor\\\": \\\"rgba(0,0,0,0.847)\\\", \\\"titleFont\\\": \\\"\\\\\\\"San Francisco\\\\\\\", HelveticaNeue, Arial\\\", \\\"cornerRadius\\\": 30, \\\"gradientLength\\\": 608, \\\"titleColor\\\": \\\"rgba(0,0,0,0.847)\\\"}, \\\"range\\\": {\\\"heatmap\\\": {\\\"scheme\\\": \\\"greenblue\\\"}}, \\\"style\\\": {\\\"rect\\\": {\\\"stroke\\\": \\\"rgba(200, 200, 200, 0.5)\\\"}, \\\"cell\\\": {\\\"stroke\\\": \\\"transparent\\\"}, \\\"group-title\\\": {\\\"fontSize\\\": 29, \\\"font\\\": \\\"HelveticaNeue, Arial\\\", \\\"fontWeight\\\": \\\"normal\\\", \\\"fill\\\": \\\"rgba(0,0,0,0.65)\\\"}}, \\\"title\\\": {\\\"color\\\": \\\"rgba(0,0,0,0.847)\\\", \\\"font\\\": \\\"\\\\\\\"San Francisco\\\\\\\", HelveticaNeue, Arial\\\", \\\"fontSize\\\": 18, \\\"fontWeight\\\": \\\"normal\\\", \\\"offset\\\": 30}}}\";                                 var vega_json_parsed = JSON.parse(vega_json);                                 var toolTipOpts = {                                     showAllFields: true                                 };                                 if(vega_json_parsed[\"metadata\"] != null){                                     if(vega_json_parsed[\"metadata\"][\"bubbleOpts\"] != null){                                         toolTipOpts = vega_json_parsed[\"metadata\"][\"bubbleOpts\"];                                     };                                 };                                 vegaEmbed(\"#vis\", vega_json_parsed).then(function (result) {                                     vegaTooltip.vega(result.view, toolTipOpts);                                  });                             </script>                         </body>                     </html>' src=\"demo_iframe_srcdoc.htm\">                         <p>Your browser does not support iframes.</p>                     </iframe>                 </body>             </html>"
      ],
      "text/plain": [
       "<IPython.core.display.HTML object>"
      ]
     },
     "metadata": {},
     "output_type": "display_data"
    }
   ],
   "source": [
    "tc.show(sf[1:866]['memory'],sf[1:866]['language'])"
   ]
  },
  {
   "cell_type": "code",
   "execution_count": 15,
   "metadata": {},
   "outputs": [
    {
     "data": {
      "text/html": [
       "<pre>Materializing X axis SArray</pre>"
      ],
      "text/plain": [
       "Materializing X axis SArray"
      ]
     },
     "metadata": {},
     "output_type": "display_data"
    },
    {
     "data": {
      "text/html": [
       "<pre>Materializing Y axis SArray</pre>"
      ],
      "text/plain": [
       "Materializing Y axis SArray"
      ]
     },
     "metadata": {},
     "output_type": "display_data"
    },
    {
     "data": {
      "text/html": [
       "<html>                 <body>                     <iframe style=\"border:0;margin:0\" width=\"920\" height=\"770\" srcdoc='<html lang=\"en\">                         <head>                             <script src=\"https://cdnjs.cloudflare.com/ajax/libs/vega/5.4.0/vega.js\"></script>                             <script src=\"https://cdnjs.cloudflare.com/ajax/libs/vega-embed/4.0.0/vega-embed.js\"></script>                             <script src=\"https://cdnjs.cloudflare.com/ajax/libs/vega-tooltip/0.5.1/vega-tooltip.min.js\"></script>                             <link rel=\"stylesheet\" type=\"text/css\" href=\"https://cdnjs.cloudflare.com/ajax/libs/vega-tooltip/0.5.1/vega-tooltip.min.css\">                             <style>                             .vega-actions > a{                                 color:white;                                 text-decoration: none;                                 font-family: \"Arial\";                                 cursor:pointer;                                 padding:5px;                                 background:#AAAAAA;                                 border-radius:4px;                                 padding-left:10px;                                 padding-right:10px;                                 margin-right:5px;                             }                             .vega-actions{                                 margin-top:20px;                                 text-align:center                             }                            .vega-actions > a{                                 background:#999999;                            }                             </style>                         </head>                         <body>                             <div id=\"vis\">                             </div>                             <script>                                 var vega_json = \"{\\\"$schema\\\": \\\"https://vega.github.io/schema/vega/v4.json\\\", \\\"autosize\\\": {\\\"type\\\": \\\"fit\\\", \\\"resize\\\": false, \\\"contains\\\": \\\"padding\\\"}, \\\"axes\\\": [{\\\"scale\\\": \\\"x\\\", \\\"title\\\": \\\"X\\\", \\\"tickCount\\\": {\\\"signal\\\": \\\"min(ceil(width/40), 60)\\\"}, \\\"zindex\\\": 1, \\\"labelOverlap\\\": true, \\\"encode\\\": {\\\"labels\\\": {\\\"update\\\": {\\\"align\\\": {\\\"value\\\": \\\"right\\\"}, \\\"angle\\\": {\\\"value\\\": 270}, \\\"baseline\\\": {\\\"value\\\": \\\"middle\\\"}}}}, \\\"orient\\\": \\\"bottom\\\"}, {\\\"scale\\\": \\\"y\\\", \\\"title\\\": \\\"Y\\\", \\\"tickCount\\\": {\\\"signal\\\": \\\"min(ceil(height/40), 40)\\\"}, \\\"zindex\\\": 1, \\\"labelOverlap\\\": true, \\\"orient\\\": \\\"left\\\"}], \\\"legends\\\": [{\\\"titlePadding\\\": 4, \\\"direction\\\": \\\"horizontal\\\", \\\"title\\\": \\\"Count\\\", \\\"titleFontSize\\\": 12, \\\"gradientLength\\\": {\\\"signal\\\": \\\"width\\\"}, \\\"type\\\": \\\"gradient\\\", \\\"orient\\\": \\\"top\\\", \\\"fill\\\": \\\"color\\\"}], \\\"title\\\": \\\"X vs. Y\\\", \\\"scales\\\": [{\\\"range\\\": [0, {\\\"signal\\\": \\\"width\\\"}], \\\"type\\\": \\\"band\\\", \\\"domain\\\": {\\\"data\\\": \\\"source_2\\\", \\\"field\\\": \\\"x\\\", \\\"sort\\\": true}, \\\"zero\\\": false, \\\"name\\\": \\\"x\\\"}, {\\\"range\\\": [{\\\"signal\\\": \\\"height\\\"}, 0], \\\"type\\\": \\\"band\\\", \\\"domain\\\": {\\\"data\\\": \\\"source_2\\\", \\\"field\\\": \\\"y\\\", \\\"sort\\\": true}, \\\"zero\\\": false, \\\"name\\\": \\\"y\\\"}, {\\\"domain\\\": {\\\"field\\\": \\\"count\\\", \\\"data\\\": \\\"source_2\\\"}, \\\"name\\\": \\\"color\\\", \\\"zero\\\": false, \\\"range\\\": \\\"heatmap\\\", \\\"type\\\": \\\"sequential\\\", \\\"nice\\\": false}], \\\"height\\\": 550, \\\"padding\\\": 8, \\\"width\\\": 720, \\\"marks\\\": [{\\\"encode\\\": {\\\"update\\\": {\\\"fill\\\": {\\\"field\\\": \\\"count\\\", \\\"scale\\\": \\\"color\\\"}}, \\\"enter\\\": {\\\"y\\\": {\\\"field\\\": \\\"y\\\", \\\"scale\\\": \\\"y\\\"}, \\\"x\\\": {\\\"field\\\": \\\"x\\\", \\\"scale\\\": \\\"x\\\"}, \\\"height\\\": {\\\"band\\\": true, \\\"scale\\\": \\\"y\\\"}, \\\"width\\\": {\\\"band\\\": true, \\\"scale\\\": \\\"x\\\"}}}, \\\"from\\\": {\\\"data\\\": \\\"source_2\\\"}, \\\"type\\\": \\\"rect\\\"}], \\\"data\\\": [{\\\"name\\\": \\\"source_2\\\", \\\"values\\\": [{\\\"x\\\": \\\"0.06\\\", \\\"y\\\": \\\"PYPY3\\\", \\\"count\\\": 1}, {\\\"x\\\": \\\"0.06\\\", \\\"y\\\": \\\"JAVA\\\", \\\"count\\\": 1}, {\\\"x\\\": \\\"0.06\\\", \\\"y\\\": \\\"C++17\\\", \\\"count\\\": 0}, {\\\"x\\\": \\\"0.06\\\", \\\"y\\\": \\\"C++14\\\", \\\"count\\\": 0}, {\\\"x\\\": \\\"0.06\\\", \\\"y\\\": \\\"PYTH 3.6\\\", \\\"count\\\": 0}, {\\\"x\\\": \\\"0.06\\\", \\\"y\\\": \\\"C\\\", \\\"count\\\": 0}, {\\\"x\\\": \\\"-\\\", \\\"y\\\": \\\"PYPY3\\\", \\\"count\\\": 0}, {\\\"x\\\": \\\"-\\\", \\\"y\\\": \\\"JAVA\\\", \\\"count\\\": 7}, {\\\"x\\\": \\\"-\\\", \\\"y\\\": \\\"C++17\\\", \\\"count\\\": 4}, {\\\"x\\\": \\\"-\\\", \\\"y\\\": \\\"C++14\\\", \\\"count\\\": 20}, {\\\"x\\\": \\\"-\\\", \\\"y\\\": \\\"PYTH 3.6\\\", \\\"count\\\": 7}, {\\\"x\\\": \\\"-\\\", \\\"y\\\": \\\"C\\\", \\\"count\\\": 3}, {\\\"x\\\": \\\"0.04\\\", \\\"y\\\": \\\"PYPY3\\\", \\\"count\\\": 3}, {\\\"x\\\": \\\"0.04\\\", \\\"y\\\": \\\"JAVA\\\", \\\"count\\\": 4}, {\\\"x\\\": \\\"0.04\\\", \\\"y\\\": \\\"C++17\\\", \\\"count\\\": 0}, {\\\"x\\\": \\\"0.04\\\", \\\"y\\\": \\\"C++14\\\", \\\"count\\\": 0}, {\\\"x\\\": \\\"0.04\\\", \\\"y\\\": \\\"PYTH 3.6\\\", \\\"count\\\": 0}, {\\\"x\\\": \\\"0.04\\\", \\\"y\\\": \\\"C\\\", \\\"count\\\": 0}, {\\\"x\\\": \\\"0.02\\\", \\\"y\\\": \\\"PYPY3\\\", \\\"count\\\": 0}, {\\\"x\\\": \\\"0.02\\\", \\\"y\\\": \\\"JAVA\\\", \\\"count\\\": 0}, {\\\"x\\\": \\\"0.02\\\", \\\"y\\\": \\\"C++17\\\", \\\"count\\\": 0}, {\\\"x\\\": \\\"0.02\\\", \\\"y\\\": \\\"C++14\\\", \\\"count\\\": 1}, {\\\"x\\\": \\\"0.02\\\", \\\"y\\\": \\\"PYTH 3.6\\\", \\\"count\\\": 64}, {\\\"x\\\": \\\"0.02\\\", \\\"y\\\": \\\"C\\\", \\\"count\\\": 0}, {\\\"x\\\": \\\"0.00\\\", \\\"y\\\": \\\"PYPY3\\\", \\\"count\\\": 0}, {\\\"x\\\": \\\"0.00\\\", \\\"y\\\": \\\"JAVA\\\", \\\"count\\\": 0}, {\\\"x\\\": \\\"0.00\\\", \\\"y\\\": \\\"C++17\\\", \\\"count\\\": 85}, {\\\"x\\\": \\\"0.00\\\", \\\"y\\\": \\\"C++14\\\", \\\"count\\\": 481}, {\\\"x\\\": \\\"0.00\\\", \\\"y\\\": \\\"PYTH 3.6\\\", \\\"count\\\": 2}, {\\\"x\\\": \\\"0.00\\\", \\\"y\\\": \\\"C\\\", \\\"count\\\": 50}, {\\\"x\\\": \\\"0.18\\\", \\\"y\\\": \\\"PYPY3\\\", \\\"count\\\": 2}, {\\\"x\\\": \\\"0.18\\\", \\\"y\\\": \\\"JAVA\\\", \\\"count\\\": 0}, {\\\"x\\\": \\\"0.18\\\", \\\"y\\\": \\\"C++17\\\", \\\"count\\\": 0}, {\\\"x\\\": \\\"0.18\\\", \\\"y\\\": \\\"C++14\\\", \\\"count\\\": 0}, {\\\"x\\\": \\\"0.18\\\", \\\"y\\\": \\\"PYTH 3.6\\\", \\\"count\\\": 0}, {\\\"x\\\": \\\"0.18\\\", \\\"y\\\": \\\"C\\\", \\\"count\\\": 0}, {\\\"x\\\": \\\"0.07\\\", \\\"y\\\": \\\"PYPY3\\\", \\\"count\\\": 1}, {\\\"x\\\": \\\"0.07\\\", \\\"y\\\": \\\"JAVA\\\", \\\"count\\\": 2}, {\\\"x\\\": \\\"0.07\\\", \\\"y\\\": \\\"C++17\\\", \\\"count\\\": 0}, {\\\"x\\\": \\\"0.07\\\", \\\"y\\\": \\\"C++14\\\", \\\"count\\\": 0}, {\\\"x\\\": \\\"0.07\\\", \\\"y\\\": \\\"PYTH 3.6\\\", \\\"count\\\": 0}, {\\\"x\\\": \\\"0.07\\\", \\\"y\\\": \\\"C\\\", \\\"count\\\": 0}, {\\\"x\\\": \\\"0.05\\\", \\\"y\\\": \\\"PYPY3\\\", \\\"count\\\": 0}, {\\\"x\\\": \\\"0.05\\\", \\\"y\\\": \\\"JAVA\\\", \\\"count\\\": 11}, {\\\"x\\\": \\\"0.05\\\", \\\"y\\\": \\\"C++17\\\", \\\"count\\\": 0}, {\\\"x\\\": \\\"0.05\\\", \\\"y\\\": \\\"C++14\\\", \\\"count\\\": 0}, {\\\"x\\\": \\\"0.05\\\", \\\"y\\\": \\\"PYTH 3.6\\\", \\\"count\\\": 0}, {\\\"x\\\": \\\"0.05\\\", \\\"y\\\": \\\"C\\\", \\\"count\\\": 0}, {\\\"x\\\": \\\"0.11\\\", \\\"y\\\": \\\"PYPY3\\\", \\\"count\\\": 0}, {\\\"x\\\": \\\"0.11\\\", \\\"y\\\": \\\"JAVA\\\", \\\"count\\\": 21}, {\\\"x\\\": \\\"0.11\\\", \\\"y\\\": \\\"C++17\\\", \\\"count\\\": 0}, {\\\"x\\\": \\\"0.11\\\", \\\"y\\\": \\\"C++14\\\", \\\"count\\\": 0}, {\\\"x\\\": \\\"0.11\\\", \\\"y\\\": \\\"PYTH 3.6\\\", \\\"count\\\": 0}, {\\\"x\\\": \\\"0.11\\\", \\\"y\\\": \\\"C\\\", \\\"count\\\": 0}, {\\\"x\\\": \\\"0.10\\\", \\\"y\\\": \\\"PYPY3\\\", \\\"count\\\": 0}, {\\\"x\\\": \\\"0.10\\\", \\\"y\\\": \\\"JAVA\\\", \\\"count\\\": 37}, {\\\"x\\\": \\\"0.10\\\", \\\"y\\\": \\\"C++17\\\", \\\"count\\\": 0}, {\\\"x\\\": \\\"0.10\\\", \\\"y\\\": \\\"C++14\\\", \\\"count\\\": 0}, {\\\"x\\\": \\\"0.10\\\", \\\"y\\\": \\\"PYTH 3.6\\\", \\\"count\\\": 0}, {\\\"x\\\": \\\"0.10\\\", \\\"y\\\": \\\"C\\\", \\\"count\\\": 0}, {\\\"x\\\": \\\"0.01\\\", \\\"y\\\": \\\"PYPY3\\\", \\\"count\\\": 0}, {\\\"x\\\": \\\"0.01\\\", \\\"y\\\": \\\"JAVA\\\", \\\"count\\\": 0}, {\\\"x\\\": \\\"0.01\\\", \\\"y\\\": \\\"C++17\\\", \\\"count\\\": 0}, {\\\"x\\\": \\\"0.01\\\", \\\"y\\\": \\\"C++14\\\", \\\"count\\\": 0}, {\\\"x\\\": \\\"0.01\\\", \\\"y\\\": \\\"PYTH 3.6\\\", \\\"count\\\": 58}, {\\\"x\\\": \\\"0.01\\\", \\\"y\\\": \\\"C\\\", \\\"count\\\": 0}]}], \\\"config\\\": {\\\"axis\\\": {\\\"gridColor\\\": \\\"rgba(204,204,204,1.0)\\\", \\\"labelFont\\\": \\\"\\\\\\\"San Francisco\\\\\\\", HelveticaNeue, Arial\\\", \\\"labelFontSize\\\": 12, \\\"labelPadding\\\": 10, \\\"labelColor\\\": \\\"rgba(0,0,0,0.847)\\\", \\\"tickColor\\\": \\\"rgb(136,136,136)\\\", \\\"titleFont\\\": \\\"\\\\\\\"San Francisco\\\\\\\", HelveticaNeue, Arial\\\", \\\"titleFontWeight\\\": \\\"normal\\\", \\\"titlePadding\\\": 20, \\\"titleFontSize\\\": 14, \\\"titleColor\\\": \\\"rgba(0,0,0,0.847)\\\"}, \\\"axisY\\\": {\\\"minExtent\\\": 30}, \\\"legend\\\": {\\\"labelFont\\\": \\\"\\\\\\\"San Francisco\\\\\\\", HelveticaNeue, Arial\\\", \\\"labelColor\\\": \\\"rgba(0,0,0,0.847)\\\", \\\"titleFont\\\": \\\"\\\\\\\"San Francisco\\\\\\\", HelveticaNeue, Arial\\\", \\\"cornerRadius\\\": 30, \\\"gradientLength\\\": 608, \\\"titleColor\\\": \\\"rgba(0,0,0,0.847)\\\"}, \\\"range\\\": {\\\"heatmap\\\": {\\\"scheme\\\": \\\"greenblue\\\"}}, \\\"style\\\": {\\\"rect\\\": {\\\"stroke\\\": \\\"rgba(200, 200, 200, 0.5)\\\"}, \\\"cell\\\": {\\\"stroke\\\": \\\"transparent\\\"}, \\\"group-title\\\": {\\\"fontSize\\\": 29, \\\"font\\\": \\\"HelveticaNeue, Arial\\\", \\\"fontWeight\\\": \\\"normal\\\", \\\"fill\\\": \\\"rgba(0,0,0,0.65)\\\"}}, \\\"title\\\": {\\\"color\\\": \\\"rgba(0,0,0,0.847)\\\", \\\"font\\\": \\\"\\\\\\\"San Francisco\\\\\\\", HelveticaNeue, Arial\\\", \\\"fontSize\\\": 18, \\\"fontWeight\\\": \\\"normal\\\", \\\"offset\\\": 30}}}\";                                 var vega_json_parsed = JSON.parse(vega_json);                                 var toolTipOpts = {                                     showAllFields: true                                 };                                 if(vega_json_parsed[\"metadata\"] != null){                                     if(vega_json_parsed[\"metadata\"][\"bubbleOpts\"] != null){                                         toolTipOpts = vega_json_parsed[\"metadata\"][\"bubbleOpts\"];                                     };                                 };                                 vegaEmbed(\"#vis\", vega_json_parsed).then(function (result) {                                     vegaTooltip.vega(result.view, toolTipOpts);                                  });                             </script>                         </body>                     </html>' src=\"demo_iframe_srcdoc.htm\">                         <p>Your browser does not support iframes.</p>                     </iframe>                 </body>             </html>"
      ],
      "text/plain": [
       "<IPython.core.display.HTML object>"
      ]
     },
     "metadata": {},
     "output_type": "display_data"
    }
   ],
   "source": [
    "tc.show(sf[1:866]['time'],sf[1:866]['language'])"
   ]
  },
  {
   "cell_type": "code",
   "execution_count": 4,
   "metadata": {},
   "outputs": [],
   "source": [
    "clean = sf[sf['result']!='compilation error']"
   ]
  },
  {
   "cell_type": "code",
   "execution_count": 5,
   "metadata": {},
   "outputs": [
    {
     "name": "stdout",
     "output_type": "stream",
     "text": [
      "(825, 9) (866, 9)\n"
     ]
    }
   ],
   "source": [
    "print(clean.shape,sf.shape)"
   ]
  },
  {
   "cell_type": "code",
   "execution_count": 6,
   "metadata": {},
   "outputs": [],
   "source": [
    "clean['time'] = clean['time'].astype(float)"
   ]
  },
  {
   "cell_type": "code",
   "execution_count": 34,
   "metadata": {},
   "outputs": [
    {
     "data": {
      "text/html": [
       "<pre>Materializing X axis SArray</pre>"
      ],
      "text/plain": [
       "Materializing X axis SArray"
      ]
     },
     "metadata": {},
     "output_type": "display_data"
    },
    {
     "data": {
      "text/html": [
       "<pre>Materializing Y axis SArray</pre>"
      ],
      "text/plain": [
       "Materializing Y axis SArray"
      ]
     },
     "metadata": {},
     "output_type": "display_data"
    },
    {
     "data": {
      "text/html": [
       "<html>                 <body>                     <iframe style=\"border:0;margin:0\" width=\"800\" height=\"770\" srcdoc='<html lang=\"en\">                         <head>                             <script src=\"https://cdnjs.cloudflare.com/ajax/libs/vega/5.4.0/vega.js\"></script>                             <script src=\"https://cdnjs.cloudflare.com/ajax/libs/vega-embed/4.0.0/vega-embed.js\"></script>                             <script src=\"https://cdnjs.cloudflare.com/ajax/libs/vega-tooltip/0.5.1/vega-tooltip.min.js\"></script>                             <link rel=\"stylesheet\" type=\"text/css\" href=\"https://cdnjs.cloudflare.com/ajax/libs/vega-tooltip/0.5.1/vega-tooltip.min.css\">                             <style>                             .vega-actions > a{                                 color:white;                                 text-decoration: none;                                 font-family: \"Arial\";                                 cursor:pointer;                                 padding:5px;                                 background:#AAAAAA;                                 border-radius:4px;                                 padding-left:10px;                                 padding-right:10px;                                 margin-right:5px;                             }                             .vega-actions{                                 margin-top:20px;                                 text-align:center                             }                            .vega-actions > a{                                 background:#999999;                            }                             </style>                         </head>                         <body>                             <div id=\"vis\">                             </div>                             <script>                                 var vega_json = \"{\\\"$schema\\\": \\\"https://vega.github.io/schema/vega/v4.json\\\", \\\"autosize\\\": {\\\"type\\\": \\\"fit\\\", \\\"resize\\\": false, \\\"contains\\\": \\\"padding\\\"}, \\\"padding\\\": 8, \\\"metadata\\\": {\\\"bubbleOpts\\\": {\\\"showAllFields\\\": false, \\\"fields\\\": [{\\\"field\\\": \\\"x\\\"}, {\\\"field\\\": \\\"min\\\"}, {\\\"field\\\": \\\"lower quartile\\\"}, {\\\"field\\\": \\\"median\\\"}, {\\\"field\\\": \\\"upper quartile\\\"}, {\\\"field\\\": \\\"max\\\"}]}}, \\\"title\\\": \\\"X vs. Y\\\", \\\"height\\\": 550, \\\"style\\\": \\\"cell\\\", \\\"data\\\": [{\\\"name\\\": \\\"source_2\\\", \\\"transform\\\": [{\\\"type\\\": \\\"collect\\\", \\\"sort\\\": {\\\"field\\\": \\\"median\\\"}}], \\\"values\\\": [{\\\"x\\\": \\\"PYTH 3.6\\\", \\\"min\\\": 0, \\\"lower quartile\\\": 0.01, \\\"median\\\": 0.02, \\\"upper quartile\\\": 0.02, \\\"max\\\": 0.02}, {\\\"x\\\": \\\"PYPY3\\\", \\\"min\\\": 0.04, \\\"lower quartile\\\": 0.04, \\\"median\\\": 0.06, \\\"upper quartile\\\": 0.18, \\\"max\\\": 0.18}, {\\\"x\\\": \\\"C++14\\\", \\\"min\\\": 0, \\\"lower quartile\\\": 0, \\\"median\\\": 0, \\\"upper quartile\\\": 0, \\\"max\\\": 0.02}, {\\\"x\\\": \\\"C\\\", \\\"min\\\": 0, \\\"lower quartile\\\": 0, \\\"median\\\": 0, \\\"upper quartile\\\": 0, \\\"max\\\": 0}, {\\\"x\\\": \\\"JAVA\\\", \\\"min\\\": 0.04, \\\"lower quartile\\\": 0.1, \\\"median\\\": 0.1, \\\"upper quartile\\\": 0.11, \\\"max\\\": 0.11}, {\\\"x\\\": \\\"C++17\\\", \\\"min\\\": 0, \\\"lower quartile\\\": 0, \\\"median\\\": 0, \\\"upper quartile\\\": 0, \\\"max\\\": 0}]}], \\\"signals\\\": [{\\\"name\\\": \\\"x_step\\\", \\\"value\\\": 42}, {\\\"name\\\": \\\"width\\\", \\\"update\\\": \\\"max(720, 100 + bandspace(domain(&apos;x&apos;).length, 0.1, 0.1) * x_step)\\\"}], \\\"marks\\\": [{\\\"name\\\": \\\"layer_0_marks\\\", \\\"type\\\": \\\"rule\\\", \\\"style\\\": [\\\"boxWhisker\\\"], \\\"from\\\": {\\\"data\\\": \\\"source_2\\\"}, \\\"encode\\\": {\\\"update\\\": {\\\"x\\\": {\\\"scale\\\": \\\"x\\\", \\\"field\\\": \\\"x\\\", \\\"band\\\": 0.5}, \\\"y\\\": {\\\"scale\\\": \\\"y\\\", \\\"field\\\": \\\"min\\\"}, \\\"y2\\\": {\\\"scale\\\": \\\"y\\\", \\\"field\\\": \\\"lower quartile\\\"}, \\\"stroke\\\": {\\\"value\\\": \\\"black\\\"}}}}, {\\\"name\\\": \\\"layer_1_marks\\\", \\\"type\\\": \\\"rule\\\", \\\"style\\\": [\\\"boxWhisker\\\"], \\\"from\\\": {\\\"data\\\": \\\"source_2\\\"}, \\\"encode\\\": {\\\"update\\\": {\\\"x\\\": {\\\"scale\\\": \\\"x\\\", \\\"field\\\": \\\"x\\\", \\\"band\\\": 0.5}, \\\"y\\\": {\\\"scale\\\": \\\"y\\\", \\\"field\\\": \\\"upper quartile\\\"}, \\\"y2\\\": {\\\"scale\\\": \\\"y\\\", \\\"field\\\": \\\"max\\\"}, \\\"stroke\\\": {\\\"value\\\": \\\"black\\\"}}}}, {\\\"name\\\": \\\"layer_2_marks\\\", \\\"type\\\": \\\"rect\\\", \\\"style\\\": [\\\"box\\\"], \\\"from\\\": {\\\"data\\\": \\\"source_2\\\"}, \\\"encode\\\": {\\\"hover\\\": {\\\"fill\\\": {\\\"value\\\": \\\"#7EC2F3\\\"}}, \\\"update\\\": {\\\"xc\\\": {\\\"scale\\\": \\\"x\\\", \\\"field\\\": \\\"x\\\", \\\"band\\\": 0.5}, \\\"width\\\": {\\\"value\\\": 20}, \\\"y\\\": {\\\"scale\\\": \\\"y\\\", \\\"field\\\": \\\"lower quartile\\\"}, \\\"y2\\\": {\\\"scale\\\": \\\"y\\\", \\\"field\\\": \\\"upper quartile\\\"}, \\\"fill\\\": {\\\"value\\\": \\\"#108EE9\\\"}}}}, {\\\"name\\\": \\\"layer_3_marks\\\", \\\"type\\\": \\\"rect\\\", \\\"style\\\": [\\\"boxMid\\\"], \\\"from\\\": {\\\"data\\\": \\\"source_2\\\"}, \\\"encode\\\": {\\\"update\\\": {\\\"xc\\\": {\\\"scale\\\": \\\"x\\\", \\\"field\\\": \\\"x\\\", \\\"band\\\": 0.5}, \\\"yc\\\": {\\\"scale\\\": \\\"y\\\", \\\"field\\\": \\\"median\\\"}, \\\"width\\\": {\\\"value\\\": 20}, \\\"height\\\": {\\\"value\\\": 1}, \\\"fill\\\": {\\\"value\\\": \\\"black\\\"}, \\\"opacity\\\": {\\\"value\\\": 0.7}}}}], \\\"scales\\\": [{\\\"name\\\": \\\"x\\\", \\\"type\\\": \\\"band\\\", \\\"domain\\\": {\\\"fields\\\": [{\\\"data\\\": \\\"source_2\\\", \\\"field\\\": \\\"x\\\"}]}, \\\"range\\\": {\\\"step\\\": {\\\"signal\\\": \\\"x_step\\\"}}, \\\"paddingInner\\\": 0.1, \\\"paddingOuter\\\": 0.05}, {\\\"name\\\": \\\"y\\\", \\\"type\\\": \\\"linear\\\", \\\"domain\\\": {\\\"fields\\\": [{\\\"data\\\": \\\"source_2\\\", \\\"field\\\": \\\"min\\\"}, {\\\"data\\\": \\\"source_2\\\", \\\"field\\\": \\\"lower quartile\\\"}, {\\\"data\\\": \\\"source_2\\\", \\\"field\\\": \\\"upper quartile\\\"}, {\\\"data\\\": \\\"source_2\\\", \\\"field\\\": \\\"max\\\"}, {\\\"data\\\": \\\"source_2\\\", \\\"field\\\": \\\"lower quartile\\\"}, {\\\"data\\\": \\\"source_2\\\", \\\"field\\\": \\\"upper quartile\\\"}, {\\\"data\\\": \\\"source_2\\\", \\\"field\\\": \\\"median\\\"}], \\\"sort\\\": true}, \\\"range\\\": [{\\\"signal\\\": \\\"height\\\"}, 0], \\\"nice\\\": true, \\\"zero\\\": true}], \\\"axes\\\": [{\\\"scale\\\": \\\"x\\\", \\\"labelOverlap\\\": true, \\\"orient\\\": \\\"bottom\\\", \\\"title\\\": \\\"X\\\", \\\"zindex\\\": 1, \\\"encode\\\": {\\\"labels\\\": {\\\"update\\\": {\\\"angle\\\": {\\\"value\\\": 270}, \\\"align\\\": {\\\"value\\\": \\\"right\\\"}, \\\"baseline\\\": {\\\"value\\\": \\\"middle\\\"}}}}}, {\\\"title\\\": \\\"Y\\\", \\\"scale\\\": \\\"y\\\", \\\"labelOverlap\\\": true, \\\"orient\\\": \\\"left\\\", \\\"tickCount\\\": {\\\"signal\\\": \\\"ceil(height/40)\\\"}, \\\"zindex\\\": 1}, {\\\"scale\\\": \\\"y\\\", \\\"domain\\\": false, \\\"grid\\\": true, \\\"labels\\\": false, \\\"maxExtent\\\": 0, \\\"minExtent\\\": 0, \\\"orient\\\": \\\"left\\\", \\\"tickCount\\\": {\\\"signal\\\": \\\"ceil(height/40)\\\"}, \\\"ticks\\\": false, \\\"zindex\\\": 0, \\\"gridScale\\\": \\\"x\\\"}], \\\"config\\\": {\\\"axis\\\": {\\\"gridColor\\\": \\\"rgba(204,204,204,1.0)\\\", \\\"labelFont\\\": \\\"\\\\\\\"San Francisco\\\\\\\", HelveticaNeue, Arial\\\", \\\"labelFontSize\\\": 12, \\\"labelPadding\\\": 10, \\\"labelColor\\\": \\\"rgba(0,0,0,0.847)\\\", \\\"tickColor\\\": \\\"rgb(136,136,136)\\\", \\\"titleFont\\\": \\\"\\\\\\\"San Francisco\\\\\\\", HelveticaNeue, Arial\\\", \\\"titleFontWeight\\\": \\\"normal\\\", \\\"titlePadding\\\": 20, \\\"titleFontSize\\\": 14, \\\"titleColor\\\": \\\"rgba(0,0,0,0.847)\\\"}, \\\"axisY\\\": {\\\"minExtent\\\": 30}, \\\"legend\\\": {\\\"labelFont\\\": \\\"\\\\\\\"San Francisco\\\\\\\", HelveticaNeue, Arial\\\", \\\"labelColor\\\": \\\"rgba(0,0,0,0.847)\\\", \\\"titleFont\\\": \\\"\\\\\\\"San Francisco\\\\\\\", HelveticaNeue, Arial\\\", \\\"cornerRadius\\\": 30, \\\"gradientLength\\\": 608, \\\"titleColor\\\": \\\"rgba(0,0,0,0.847)\\\"}, \\\"range\\\": {\\\"heatmap\\\": {\\\"scheme\\\": \\\"greenblue\\\"}}, \\\"style\\\": {\\\"rect\\\": {\\\"stroke\\\": \\\"rgba(200, 200, 200, 0.5)\\\"}, \\\"cell\\\": {\\\"stroke\\\": \\\"transparent\\\"}, \\\"group-title\\\": {\\\"fontSize\\\": 29, \\\"font\\\": \\\"HelveticaNeue, Arial\\\", \\\"fontWeight\\\": \\\"normal\\\", \\\"fill\\\": \\\"rgba(0,0,0,0.65)\\\"}}, \\\"title\\\": {\\\"color\\\": \\\"rgba(0,0,0,0.847)\\\", \\\"font\\\": \\\"\\\\\\\"San Francisco\\\\\\\", HelveticaNeue, Arial\\\", \\\"fontSize\\\": 18, \\\"fontWeight\\\": \\\"normal\\\", \\\"offset\\\": 30}}}\";                                 var vega_json_parsed = JSON.parse(vega_json);                                 var toolTipOpts = {                                     showAllFields: true                                 };                                 if(vega_json_parsed[\"metadata\"] != null){                                     if(vega_json_parsed[\"metadata\"][\"bubbleOpts\"] != null){                                         toolTipOpts = vega_json_parsed[\"metadata\"][\"bubbleOpts\"];                                     };                                 };                                 vegaEmbed(\"#vis\", vega_json_parsed).then(function (result) {                                     vegaTooltip.vega(result.view, toolTipOpts);                                  });                             </script>                         </body>                     </html>' src=\"demo_iframe_srcdoc.htm\">                         <p>Your browser does not support iframes.</p>                     </iframe>                 </body>             </html>"
      ],
      "text/plain": [
       "<IPython.core.display.HTML object>"
      ]
     },
     "metadata": {},
     "output_type": "display_data"
    }
   ],
   "source": [
    "tc.show(clean['time'],clean['language'])"
   ]
  },
  {
   "cell_type": "code",
   "execution_count": 7,
   "metadata": {},
   "outputs": [
    {
     "data": {
      "text/html": [
       "<div style=\"max-height:1000px;max-width:1500px;overflow:auto;\"><table frame=\"box\" rules=\"cols\">\n",
       "    <tr>\n",
       "        <th style=\"padding-left: 1em; padding-right: 1em; text-align: center\">program_id</th>\n",
       "        <th style=\"padding-left: 1em; padding-right: 1em; text-align: center\">datetime</th>\n",
       "        <th style=\"padding-left: 1em; padding-right: 1em; text-align: center\">star</th>\n",
       "        <th style=\"padding-left: 1em; padding-right: 1em; text-align: center\">user</th>\n",
       "        <th style=\"padding-left: 1em; padding-right: 1em; text-align: center\">result</th>\n",
       "        <th style=\"padding-left: 1em; padding-right: 1em; text-align: center\">time</th>\n",
       "        <th style=\"padding-left: 1em; padding-right: 1em; text-align: center\">memory</th>\n",
       "        <th style=\"padding-left: 1em; padding-right: 1em; text-align: center\">language</th>\n",
       "        <th style=\"padding-left: 1em; padding-right: 1em; text-align: center\">problem_code</th>\n",
       "    </tr>\n",
       "    <tr>\n",
       "        <td style=\"padding-left: 1em; padding-right: 1em; text-align: center; vertical-align: top\">34855045</td>\n",
       "        <td style=\"padding-left: 1em; padding-right: 1em; text-align: center; vertical-align: top\">11:44 PM 28/06/20</td>\n",
       "        <td style=\"padding-left: 1em; padding-right: 1em; text-align: center; vertical-align: top\">2</td>\n",
       "        <td style=\"padding-left: 1em; padding-right: 1em; text-align: center; vertical-align: top\">s_swapnil</td>\n",
       "        <td style=\"padding-left: 1em; padding-right: 1em; text-align: center; vertical-align: top\">compilation error</td>\n",
       "        <td style=\"padding-left: 1em; padding-right: 1em; text-align: center; vertical-align: top\">-</td>\n",
       "        <td style=\"padding-left: 1em; padding-right: 1em; text-align: center; vertical-align: top\">-</td>\n",
       "        <td style=\"padding-left: 1em; padding-right: 1em; text-align: center; vertical-align: top\">C++14</td>\n",
       "        <td style=\"padding-left: 1em; padding-right: 1em; text-align: center; vertical-align: top\">ECJN202</td>\n",
       "    </tr>\n",
       "    <tr>\n",
       "        <td style=\"padding-left: 1em; padding-right: 1em; text-align: center; vertical-align: top\">34855397</td>\n",
       "        <td style=\"padding-left: 1em; padding-right: 1em; text-align: center; vertical-align: top\">12:10 AM 29/06/20</td>\n",
       "        <td style=\"padding-left: 1em; padding-right: 1em; text-align: center; vertical-align: top\">1</td>\n",
       "        <td style=\"padding-left: 1em; padding-right: 1em; text-align: center; vertical-align: top\">prajapati1999</td>\n",
       "        <td style=\"padding-left: 1em; padding-right: 1em; text-align: center; vertical-align: top\">compilation error</td>\n",
       "        <td style=\"padding-left: 1em; padding-right: 1em; text-align: center; vertical-align: top\">-</td>\n",
       "        <td style=\"padding-left: 1em; padding-right: 1em; text-align: center; vertical-align: top\">-</td>\n",
       "        <td style=\"padding-left: 1em; padding-right: 1em; text-align: center; vertical-align: top\">PYTH 3.6</td>\n",
       "        <td style=\"padding-left: 1em; padding-right: 1em; text-align: center; vertical-align: top\">ECJN202</td>\n",
       "    </tr>\n",
       "    <tr>\n",
       "        <td style=\"padding-left: 1em; padding-right: 1em; text-align: center; vertical-align: top\">34855495</td>\n",
       "        <td style=\"padding-left: 1em; padding-right: 1em; text-align: center; vertical-align: top\">12:17 AM 29/06/20</td>\n",
       "        <td style=\"padding-left: 1em; padding-right: 1em; text-align: center; vertical-align: top\">4</td>\n",
       "        <td style=\"padding-left: 1em; padding-right: 1em; text-align: center; vertical-align: top\">panukulkarni</td>\n",
       "        <td style=\"padding-left: 1em; padding-right: 1em; text-align: center; vertical-align: top\">compilation error</td>\n",
       "        <td style=\"padding-left: 1em; padding-right: 1em; text-align: center; vertical-align: top\">-</td>\n",
       "        <td style=\"padding-left: 1em; padding-right: 1em; text-align: center; vertical-align: top\">-</td>\n",
       "        <td style=\"padding-left: 1em; padding-right: 1em; text-align: center; vertical-align: top\">C++14</td>\n",
       "        <td style=\"padding-left: 1em; padding-right: 1em; text-align: center; vertical-align: top\">ECJN202</td>\n",
       "    </tr>\n",
       "    <tr>\n",
       "        <td style=\"padding-left: 1em; padding-right: 1em; text-align: center; vertical-align: top\">34855948</td>\n",
       "        <td style=\"padding-left: 1em; padding-right: 1em; text-align: center; vertical-align: top\">12:53 AM 29/06/20</td>\n",
       "        <td style=\"padding-left: 1em; padding-right: 1em; text-align: center; vertical-align: top\">1</td>\n",
       "        <td style=\"padding-left: 1em; padding-right: 1em; text-align: center; vertical-align: top\">sudhirkumar34</td>\n",
       "        <td style=\"padding-left: 1em; padding-right: 1em; text-align: center; vertical-align: top\">compilation error</td>\n",
       "        <td style=\"padding-left: 1em; padding-right: 1em; text-align: center; vertical-align: top\">-</td>\n",
       "        <td style=\"padding-left: 1em; padding-right: 1em; text-align: center; vertical-align: top\">-</td>\n",
       "        <td style=\"padding-left: 1em; padding-right: 1em; text-align: center; vertical-align: top\">JAVA</td>\n",
       "        <td style=\"padding-left: 1em; padding-right: 1em; text-align: center; vertical-align: top\">ECJN202</td>\n",
       "    </tr>\n",
       "    <tr>\n",
       "        <td style=\"padding-left: 1em; padding-right: 1em; text-align: center; vertical-align: top\">34855965</td>\n",
       "        <td style=\"padding-left: 1em; padding-right: 1em; text-align: center; vertical-align: top\">12:54 AM 29/06/20</td>\n",
       "        <td style=\"padding-left: 1em; padding-right: 1em; text-align: center; vertical-align: top\">1</td>\n",
       "        <td style=\"padding-left: 1em; padding-right: 1em; text-align: center; vertical-align: top\">sudhirkumar34</td>\n",
       "        <td style=\"padding-left: 1em; padding-right: 1em; text-align: center; vertical-align: top\">compilation error</td>\n",
       "        <td style=\"padding-left: 1em; padding-right: 1em; text-align: center; vertical-align: top\">-</td>\n",
       "        <td style=\"padding-left: 1em; padding-right: 1em; text-align: center; vertical-align: top\">-</td>\n",
       "        <td style=\"padding-left: 1em; padding-right: 1em; text-align: center; vertical-align: top\">JAVA</td>\n",
       "        <td style=\"padding-left: 1em; padding-right: 1em; text-align: center; vertical-align: top\">ECJN202</td>\n",
       "    </tr>\n",
       "    <tr>\n",
       "        <td style=\"padding-left: 1em; padding-right: 1em; text-align: center; vertical-align: top\">34855973</td>\n",
       "        <td style=\"padding-left: 1em; padding-right: 1em; text-align: center; vertical-align: top\">12:55 AM 29/06/20</td>\n",
       "        <td style=\"padding-left: 1em; padding-right: 1em; text-align: center; vertical-align: top\">1</td>\n",
       "        <td style=\"padding-left: 1em; padding-right: 1em; text-align: center; vertical-align: top\">sudhirkumar34</td>\n",
       "        <td style=\"padding-left: 1em; padding-right: 1em; text-align: center; vertical-align: top\">compilation error</td>\n",
       "        <td style=\"padding-left: 1em; padding-right: 1em; text-align: center; vertical-align: top\">-</td>\n",
       "        <td style=\"padding-left: 1em; padding-right: 1em; text-align: center; vertical-align: top\">-</td>\n",
       "        <td style=\"padding-left: 1em; padding-right: 1em; text-align: center; vertical-align: top\">JAVA</td>\n",
       "        <td style=\"padding-left: 1em; padding-right: 1em; text-align: center; vertical-align: top\">ECJN202</td>\n",
       "    </tr>\n",
       "    <tr>\n",
       "        <td style=\"padding-left: 1em; padding-right: 1em; text-align: center; vertical-align: top\">34856031</td>\n",
       "        <td style=\"padding-left: 1em; padding-right: 1em; text-align: center; vertical-align: top\">01:00 AM 29/06/20</td>\n",
       "        <td style=\"padding-left: 1em; padding-right: 1em; text-align: center; vertical-align: top\">3</td>\n",
       "        <td style=\"padding-left: 1em; padding-right: 1em; text-align: center; vertical-align: top\">shobhit020102</td>\n",
       "        <td style=\"padding-left: 1em; padding-right: 1em; text-align: center; vertical-align: top\">compilation error</td>\n",
       "        <td style=\"padding-left: 1em; padding-right: 1em; text-align: center; vertical-align: top\">-</td>\n",
       "        <td style=\"padding-left: 1em; padding-right: 1em; text-align: center; vertical-align: top\">-</td>\n",
       "        <td style=\"padding-left: 1em; padding-right: 1em; text-align: center; vertical-align: top\">C++14</td>\n",
       "        <td style=\"padding-left: 1em; padding-right: 1em; text-align: center; vertical-align: top\">ECJN202</td>\n",
       "    </tr>\n",
       "    <tr>\n",
       "        <td style=\"padding-left: 1em; padding-right: 1em; text-align: center; vertical-align: top\">34856481</td>\n",
       "        <td style=\"padding-left: 1em; padding-right: 1em; text-align: center; vertical-align: top\">01:55 AM 29/06/20</td>\n",
       "        <td style=\"padding-left: 1em; padding-right: 1em; text-align: center; vertical-align: top\">4</td>\n",
       "        <td style=\"padding-left: 1em; padding-right: 1em; text-align: center; vertical-align: top\">saransh2708</td>\n",
       "        <td style=\"padding-left: 1em; padding-right: 1em; text-align: center; vertical-align: top\">compilation error</td>\n",
       "        <td style=\"padding-left: 1em; padding-right: 1em; text-align: center; vertical-align: top\">-</td>\n",
       "        <td style=\"padding-left: 1em; padding-right: 1em; text-align: center; vertical-align: top\">-</td>\n",
       "        <td style=\"padding-left: 1em; padding-right: 1em; text-align: center; vertical-align: top\">C++14</td>\n",
       "        <td style=\"padding-left: 1em; padding-right: 1em; text-align: center; vertical-align: top\">ECJN202</td>\n",
       "    </tr>\n",
       "    <tr>\n",
       "        <td style=\"padding-left: 1em; padding-right: 1em; text-align: center; vertical-align: top\">34856843</td>\n",
       "        <td style=\"padding-left: 1em; padding-right: 1em; text-align: center; vertical-align: top\">02:57 AM 29/06/20</td>\n",
       "        <td style=\"padding-left: 1em; padding-right: 1em; text-align: center; vertical-align: top\">1</td>\n",
       "        <td style=\"padding-left: 1em; padding-right: 1em; text-align: center; vertical-align: top\">anshu13</td>\n",
       "        <td style=\"padding-left: 1em; padding-right: 1em; text-align: center; vertical-align: top\">compilation error</td>\n",
       "        <td style=\"padding-left: 1em; padding-right: 1em; text-align: center; vertical-align: top\">-</td>\n",
       "        <td style=\"padding-left: 1em; padding-right: 1em; text-align: center; vertical-align: top\">-</td>\n",
       "        <td style=\"padding-left: 1em; padding-right: 1em; text-align: center; vertical-align: top\">PYTH 3.6</td>\n",
       "        <td style=\"padding-left: 1em; padding-right: 1em; text-align: center; vertical-align: top\">ECJN202</td>\n",
       "    </tr>\n",
       "    <tr>\n",
       "        <td style=\"padding-left: 1em; padding-right: 1em; text-align: center; vertical-align: top\">34856847</td>\n",
       "        <td style=\"padding-left: 1em; padding-right: 1em; text-align: center; vertical-align: top\">02:58 AM 29/06/20</td>\n",
       "        <td style=\"padding-left: 1em; padding-right: 1em; text-align: center; vertical-align: top\">1</td>\n",
       "        <td style=\"padding-left: 1em; padding-right: 1em; text-align: center; vertical-align: top\">anshu13</td>\n",
       "        <td style=\"padding-left: 1em; padding-right: 1em; text-align: center; vertical-align: top\">compilation error</td>\n",
       "        <td style=\"padding-left: 1em; padding-right: 1em; text-align: center; vertical-align: top\">-</td>\n",
       "        <td style=\"padding-left: 1em; padding-right: 1em; text-align: center; vertical-align: top\">-</td>\n",
       "        <td style=\"padding-left: 1em; padding-right: 1em; text-align: center; vertical-align: top\">PYTH 3.6</td>\n",
       "        <td style=\"padding-left: 1em; padding-right: 1em; text-align: center; vertical-align: top\">ECJN202</td>\n",
       "    </tr>\n",
       "</table>\n",
       "[? rows x 9 columns]<br/>Note: Only the head of the SFrame is printed. This SFrame is lazily evaluated.<br/>You can use sf.materialize() to force materialization.\n",
       "</div>"
      ],
      "text/plain": [
       "Columns:\n",
       "\tprogram_id\tint\n",
       "\tdatetime\tstr\n",
       "\tstar\tint\n",
       "\tuser\tstr\n",
       "\tresult\tstr\n",
       "\ttime\tstr\n",
       "\tmemory\tstr\n",
       "\tlanguage\tstr\n",
       "\tproblem_code\tstr\n",
       "\n",
       "Rows: Unknown\n",
       "\n",
       "Data:\n",
       "+------------+-------------------+------+---------------+-------------------+------+\n",
       "| program_id |      datetime     | star |      user     |       result      | time |\n",
       "+------------+-------------------+------+---------------+-------------------+------+\n",
       "|  34855045  | 11:44 PM 28/06/20 |  2   |   s_swapnil   | compilation error |  -   |\n",
       "|  34855397  | 12:10 AM 29/06/20 |  1   | prajapati1999 | compilation error |  -   |\n",
       "|  34855495  | 12:17 AM 29/06/20 |  4   |  panukulkarni | compilation error |  -   |\n",
       "|  34855948  | 12:53 AM 29/06/20 |  1   | sudhirkumar34 | compilation error |  -   |\n",
       "|  34855965  | 12:54 AM 29/06/20 |  1   | sudhirkumar34 | compilation error |  -   |\n",
       "|  34855973  | 12:55 AM 29/06/20 |  1   | sudhirkumar34 | compilation error |  -   |\n",
       "|  34856031  | 01:00 AM 29/06/20 |  3   | shobhit020102 | compilation error |  -   |\n",
       "|  34856481  | 01:55 AM 29/06/20 |  4   |  saransh2708  | compilation error |  -   |\n",
       "|  34856843  | 02:57 AM 29/06/20 |  1   |    anshu13    | compilation error |  -   |\n",
       "|  34856847  | 02:58 AM 29/06/20 |  1   |    anshu13    | compilation error |  -   |\n",
       "+------------+-------------------+------+---------------+-------------------+------+\n",
       "+--------+----------+--------------+\n",
       "| memory | language | problem_code |\n",
       "+--------+----------+--------------+\n",
       "|   -    |  C++14   |   ECJN202    |\n",
       "|   -    | PYTH 3.6 |   ECJN202    |\n",
       "|   -    |  C++14   |   ECJN202    |\n",
       "|   -    |   JAVA   |   ECJN202    |\n",
       "|   -    |   JAVA   |   ECJN202    |\n",
       "|   -    |   JAVA   |   ECJN202    |\n",
       "|   -    |  C++14   |   ECJN202    |\n",
       "|   -    |  C++14   |   ECJN202    |\n",
       "|   -    | PYTH 3.6 |   ECJN202    |\n",
       "|   -    | PYTH 3.6 |   ECJN202    |\n",
       "+--------+----------+--------------+\n",
       "[? rows x 9 columns]\n",
       "Note: Only the head of the SFrame is printed. This SFrame is lazily evaluated.\n",
       "You can use sf.materialize() to force materialization."
      ]
     },
     "execution_count": 7,
     "metadata": {},
     "output_type": "execute_result"
    }
   ],
   "source": [
    "sf[sf['result']=='compilation error']"
   ]
  },
  {
   "cell_type": "code",
   "execution_count": 10,
   "metadata": {},
   "outputs": [],
   "source": [
    "clean['memory'] =  clean.apply(lambda x: x['memory'][:-1])"
   ]
  },
  {
   "cell_type": "code",
   "execution_count": 12,
   "metadata": {},
   "outputs": [],
   "source": [
    "clean['memory'] = clean['memory'].astype(float)"
   ]
  },
  {
   "cell_type": "code",
   "execution_count": 13,
   "metadata": {},
   "outputs": [
    {
     "data": {
      "text/html": [
       "<pre>Materializing X axis SArray</pre>"
      ],
      "text/plain": [
       "Materializing X axis SArray"
      ]
     },
     "metadata": {},
     "output_type": "display_data"
    },
    {
     "data": {
      "text/html": [
       "<pre>Materializing Y axis SArray</pre>"
      ],
      "text/plain": [
       "Materializing Y axis SArray"
      ]
     },
     "metadata": {},
     "output_type": "display_data"
    },
    {
     "data": {
      "text/html": [
       "<html>                 <body>                     <iframe style=\"border:0;margin:0\" width=\"800\" height=\"770\" srcdoc='<html lang=\"en\">                         <head>                             <script src=\"https://cdnjs.cloudflare.com/ajax/libs/vega/5.4.0/vega.js\"></script>                             <script src=\"https://cdnjs.cloudflare.com/ajax/libs/vega-embed/4.0.0/vega-embed.js\"></script>                             <script src=\"https://cdnjs.cloudflare.com/ajax/libs/vega-tooltip/0.5.1/vega-tooltip.min.js\"></script>                             <link rel=\"stylesheet\" type=\"text/css\" href=\"https://cdnjs.cloudflare.com/ajax/libs/vega-tooltip/0.5.1/vega-tooltip.min.css\">                             <style>                             .vega-actions > a{                                 color:white;                                 text-decoration: none;                                 font-family: \"Arial\";                                 cursor:pointer;                                 padding:5px;                                 background:#AAAAAA;                                 border-radius:4px;                                 padding-left:10px;                                 padding-right:10px;                                 margin-right:5px;                             }                             .vega-actions{                                 margin-top:20px;                                 text-align:center                             }                            .vega-actions > a{                                 background:#999999;                            }                             </style>                         </head>                         <body>                             <div id=\"vis\">                             </div>                             <script>                                 var vega_json = \"{\\\"$schema\\\": \\\"https://vega.github.io/schema/vega/v4.json\\\", \\\"autosize\\\": {\\\"type\\\": \\\"fit\\\", \\\"resize\\\": false, \\\"contains\\\": \\\"padding\\\"}, \\\"padding\\\": 8, \\\"metadata\\\": {\\\"bubbleOpts\\\": {\\\"showAllFields\\\": false, \\\"fields\\\": [{\\\"field\\\": \\\"x\\\"}, {\\\"field\\\": \\\"min\\\"}, {\\\"field\\\": \\\"lower quartile\\\"}, {\\\"field\\\": \\\"median\\\"}, {\\\"field\\\": \\\"upper quartile\\\"}, {\\\"field\\\": \\\"max\\\"}]}}, \\\"title\\\": \\\"X vs. Y\\\", \\\"height\\\": 550, \\\"style\\\": \\\"cell\\\", \\\"data\\\": [{\\\"name\\\": \\\"source_2\\\", \\\"transform\\\": [{\\\"type\\\": \\\"collect\\\", \\\"sort\\\": {\\\"field\\\": \\\"median\\\"}}], \\\"values\\\": [{\\\"x\\\": \\\"PYTH 3.6\\\", \\\"min\\\": 17.5, \\\"lower quartile\\\": 17.6, \\\"median\\\": 17.6, \\\"upper quartile\\\": 17.6, \\\"max\\\": 26.9}, {\\\"x\\\": \\\"PYPY3\\\", \\\"min\\\": 87.1, \\\"lower quartile\\\": 87.1, \\\"median\\\": 87.1, \\\"upper quartile\\\": 112.6, \\\"max\\\": 113.3}, {\\\"x\\\": \\\"C++14\\\", \\\"min\\\": 14.9, \\\"lower quartile\\\": 14.9, \\\"median\\\": 14.9, \\\"upper quartile\\\": 14.9, \\\"max\\\": 1819.5}, {\\\"x\\\": \\\"C\\\", \\\"min\\\": 9.2, \\\"lower quartile\\\": 9.2, \\\"median\\\": 9.2, \\\"upper quartile\\\": 9.2, \\\"max\\\": 10.1}, {\\\"x\\\": \\\"JAVA\\\", \\\"min\\\": 2133, \\\"lower quartile\\\": 2133, \\\"median\\\": 2133, \\\"upper quartile\\\": 2133, \\\"max\\\": 2197}, {\\\"x\\\": \\\"C++17\\\", \\\"min\\\": 2.4, \\\"lower quartile\\\": 5.8, \\\"median\\\": 5.8, \\\"upper quartile\\\": 6, \\\"max\\\": 44.9}]}], \\\"signals\\\": [{\\\"name\\\": \\\"x_step\\\", \\\"value\\\": 42}, {\\\"name\\\": \\\"width\\\", \\\"update\\\": \\\"max(720, 100 + bandspace(domain(&apos;x&apos;).length, 0.1, 0.1) * x_step)\\\"}], \\\"marks\\\": [{\\\"name\\\": \\\"layer_0_marks\\\", \\\"type\\\": \\\"rule\\\", \\\"style\\\": [\\\"boxWhisker\\\"], \\\"from\\\": {\\\"data\\\": \\\"source_2\\\"}, \\\"encode\\\": {\\\"update\\\": {\\\"x\\\": {\\\"scale\\\": \\\"x\\\", \\\"field\\\": \\\"x\\\", \\\"band\\\": 0.5}, \\\"y\\\": {\\\"scale\\\": \\\"y\\\", \\\"field\\\": \\\"min\\\"}, \\\"y2\\\": {\\\"scale\\\": \\\"y\\\", \\\"field\\\": \\\"lower quartile\\\"}, \\\"stroke\\\": {\\\"value\\\": \\\"black\\\"}}}}, {\\\"name\\\": \\\"layer_1_marks\\\", \\\"type\\\": \\\"rule\\\", \\\"style\\\": [\\\"boxWhisker\\\"], \\\"from\\\": {\\\"data\\\": \\\"source_2\\\"}, \\\"encode\\\": {\\\"update\\\": {\\\"x\\\": {\\\"scale\\\": \\\"x\\\", \\\"field\\\": \\\"x\\\", \\\"band\\\": 0.5}, \\\"y\\\": {\\\"scale\\\": \\\"y\\\", \\\"field\\\": \\\"upper quartile\\\"}, \\\"y2\\\": {\\\"scale\\\": \\\"y\\\", \\\"field\\\": \\\"max\\\"}, \\\"stroke\\\": {\\\"value\\\": \\\"black\\\"}}}}, {\\\"name\\\": \\\"layer_2_marks\\\", \\\"type\\\": \\\"rect\\\", \\\"style\\\": [\\\"box\\\"], \\\"from\\\": {\\\"data\\\": \\\"source_2\\\"}, \\\"encode\\\": {\\\"hover\\\": {\\\"fill\\\": {\\\"value\\\": \\\"#7EC2F3\\\"}}, \\\"update\\\": {\\\"xc\\\": {\\\"scale\\\": \\\"x\\\", \\\"field\\\": \\\"x\\\", \\\"band\\\": 0.5}, \\\"width\\\": {\\\"value\\\": 20}, \\\"y\\\": {\\\"scale\\\": \\\"y\\\", \\\"field\\\": \\\"lower quartile\\\"}, \\\"y2\\\": {\\\"scale\\\": \\\"y\\\", \\\"field\\\": \\\"upper quartile\\\"}, \\\"fill\\\": {\\\"value\\\": \\\"#108EE9\\\"}}}}, {\\\"name\\\": \\\"layer_3_marks\\\", \\\"type\\\": \\\"rect\\\", \\\"style\\\": [\\\"boxMid\\\"], \\\"from\\\": {\\\"data\\\": \\\"source_2\\\"}, \\\"encode\\\": {\\\"update\\\": {\\\"xc\\\": {\\\"scale\\\": \\\"x\\\", \\\"field\\\": \\\"x\\\", \\\"band\\\": 0.5}, \\\"yc\\\": {\\\"scale\\\": \\\"y\\\", \\\"field\\\": \\\"median\\\"}, \\\"width\\\": {\\\"value\\\": 20}, \\\"height\\\": {\\\"value\\\": 1}, \\\"fill\\\": {\\\"value\\\": \\\"black\\\"}, \\\"opacity\\\": {\\\"value\\\": 0.7}}}}], \\\"scales\\\": [{\\\"name\\\": \\\"x\\\", \\\"type\\\": \\\"band\\\", \\\"domain\\\": {\\\"fields\\\": [{\\\"data\\\": \\\"source_2\\\", \\\"field\\\": \\\"x\\\"}]}, \\\"range\\\": {\\\"step\\\": {\\\"signal\\\": \\\"x_step\\\"}}, \\\"paddingInner\\\": 0.1, \\\"paddingOuter\\\": 0.05}, {\\\"name\\\": \\\"y\\\", \\\"type\\\": \\\"linear\\\", \\\"domain\\\": {\\\"fields\\\": [{\\\"data\\\": \\\"source_2\\\", \\\"field\\\": \\\"min\\\"}, {\\\"data\\\": \\\"source_2\\\", \\\"field\\\": \\\"lower quartile\\\"}, {\\\"data\\\": \\\"source_2\\\", \\\"field\\\": \\\"upper quartile\\\"}, {\\\"data\\\": \\\"source_2\\\", \\\"field\\\": \\\"max\\\"}, {\\\"data\\\": \\\"source_2\\\", \\\"field\\\": \\\"lower quartile\\\"}, {\\\"data\\\": \\\"source_2\\\", \\\"field\\\": \\\"upper quartile\\\"}, {\\\"data\\\": \\\"source_2\\\", \\\"field\\\": \\\"median\\\"}], \\\"sort\\\": true}, \\\"range\\\": [{\\\"signal\\\": \\\"height\\\"}, 0], \\\"nice\\\": true, \\\"zero\\\": true}], \\\"axes\\\": [{\\\"scale\\\": \\\"x\\\", \\\"labelOverlap\\\": true, \\\"orient\\\": \\\"bottom\\\", \\\"title\\\": \\\"X\\\", \\\"zindex\\\": 1, \\\"encode\\\": {\\\"labels\\\": {\\\"update\\\": {\\\"angle\\\": {\\\"value\\\": 270}, \\\"align\\\": {\\\"value\\\": \\\"right\\\"}, \\\"baseline\\\": {\\\"value\\\": \\\"middle\\\"}}}}}, {\\\"title\\\": \\\"Y\\\", \\\"scale\\\": \\\"y\\\", \\\"labelOverlap\\\": true, \\\"orient\\\": \\\"left\\\", \\\"tickCount\\\": {\\\"signal\\\": \\\"ceil(height/40)\\\"}, \\\"zindex\\\": 1}, {\\\"scale\\\": \\\"y\\\", \\\"domain\\\": false, \\\"grid\\\": true, \\\"labels\\\": false, \\\"maxExtent\\\": 0, \\\"minExtent\\\": 0, \\\"orient\\\": \\\"left\\\", \\\"tickCount\\\": {\\\"signal\\\": \\\"ceil(height/40)\\\"}, \\\"ticks\\\": false, \\\"zindex\\\": 0, \\\"gridScale\\\": \\\"x\\\"}], \\\"config\\\": {\\\"axis\\\": {\\\"gridColor\\\": \\\"rgba(204,204,204,1.0)\\\", \\\"labelFont\\\": \\\"\\\\\\\"San Francisco\\\\\\\", HelveticaNeue, Arial\\\", \\\"labelFontSize\\\": 12, \\\"labelPadding\\\": 10, \\\"labelColor\\\": \\\"rgba(0,0,0,0.847)\\\", \\\"tickColor\\\": \\\"rgb(136,136,136)\\\", \\\"titleFont\\\": \\\"\\\\\\\"San Francisco\\\\\\\", HelveticaNeue, Arial\\\", \\\"titleFontWeight\\\": \\\"normal\\\", \\\"titlePadding\\\": 20, \\\"titleFontSize\\\": 14, \\\"titleColor\\\": \\\"rgba(0,0,0,0.847)\\\"}, \\\"axisY\\\": {\\\"minExtent\\\": 30}, \\\"legend\\\": {\\\"labelFont\\\": \\\"\\\\\\\"San Francisco\\\\\\\", HelveticaNeue, Arial\\\", \\\"labelColor\\\": \\\"rgba(0,0,0,0.847)\\\", \\\"titleFont\\\": \\\"\\\\\\\"San Francisco\\\\\\\", HelveticaNeue, Arial\\\", \\\"cornerRadius\\\": 30, \\\"gradientLength\\\": 608, \\\"titleColor\\\": \\\"rgba(0,0,0,0.847)\\\"}, \\\"range\\\": {\\\"heatmap\\\": {\\\"scheme\\\": \\\"greenblue\\\"}}, \\\"style\\\": {\\\"rect\\\": {\\\"stroke\\\": \\\"rgba(200, 200, 200, 0.5)\\\"}, \\\"cell\\\": {\\\"stroke\\\": \\\"transparent\\\"}, \\\"group-title\\\": {\\\"fontSize\\\": 29, \\\"font\\\": \\\"HelveticaNeue, Arial\\\", \\\"fontWeight\\\": \\\"normal\\\", \\\"fill\\\": \\\"rgba(0,0,0,0.65)\\\"}}, \\\"title\\\": {\\\"color\\\": \\\"rgba(0,0,0,0.847)\\\", \\\"font\\\": \\\"\\\\\\\"San Francisco\\\\\\\", HelveticaNeue, Arial\\\", \\\"fontSize\\\": 18, \\\"fontWeight\\\": \\\"normal\\\", \\\"offset\\\": 30}}}\";                                 var vega_json_parsed = JSON.parse(vega_json);                                 var toolTipOpts = {                                     showAllFields: true                                 };                                 if(vega_json_parsed[\"metadata\"] != null){                                     if(vega_json_parsed[\"metadata\"][\"bubbleOpts\"] != null){                                         toolTipOpts = vega_json_parsed[\"metadata\"][\"bubbleOpts\"];                                     };                                 };                                 vegaEmbed(\"#vis\", vega_json_parsed).then(function (result) {                                     vegaTooltip.vega(result.view, toolTipOpts);                                  });                             </script>                         </body>                     </html>' src=\"demo_iframe_srcdoc.htm\">                         <p>Your browser does not support iframes.</p>                     </iframe>                 </body>             </html>"
      ],
      "text/plain": [
       "<IPython.core.display.HTML object>"
      ]
     },
     "metadata": {},
     "output_type": "display_data"
    }
   ],
   "source": [
    "tc.show(clean['language'],clean['memory'])"
   ]
  },
  {
   "cell_type": "code",
   "execution_count": null,
   "metadata": {},
   "outputs": [],
   "source": []
  }
 ],
 "metadata": {
  "kernelspec": {
   "display_name": "Python 3",
   "language": "python",
   "name": "python3"
  },
  "language_info": {
   "codemirror_mode": {
    "name": "ipython",
    "version": 3
   },
   "file_extension": ".py",
   "mimetype": "text/x-python",
   "name": "python",
   "nbconvert_exporter": "python",
   "pygments_lexer": "ipython3",
   "version": "3.6.9"
  }
 },
 "nbformat": 4,
 "nbformat_minor": 4
}
