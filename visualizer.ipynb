{
 "cells": [
  {
   "cell_type": "code",
   "execution_count": 9,
   "metadata": {},
   "outputs": [],
   "source": [
    "import pandas as pd\n",
    "import numpy as np\n",
    "import matplotlib.pyplot as plt\n",
    "%matplotlib inline "
   ]
  },
  {
   "cell_type": "code",
   "execution_count": 13,
   "metadata": {},
   "outputs": [
    {
     "data": {
      "text/plain": [
       "'D:\\\\codechef'"
      ]
     },
     "execution_count": 13,
     "metadata": {},
     "output_type": "execute_result"
    }
   ],
   "source": [
    "import os\n",
    "os.getcwd()"
   ]
  },
  {
   "cell_type": "code",
   "execution_count": 2,
   "metadata": {},
   "outputs": [],
   "source": [
    "data = pd.read_csv('./dataset/modified.csv')"
   ]
  },
  {
   "cell_type": "code",
   "execution_count": 8,
   "metadata": {},
   "outputs": [
    {
     "data": {
      "text/plain": [
       "(866, 11)"
      ]
     },
     "execution_count": 8,
     "metadata": {},
     "output_type": "execute_result"
    }
   ],
   "source": [
    "data.shape"
   ]
  },
  {
   "cell_type": "code",
   "execution_count": 3,
   "metadata": {},
   "outputs": [
    {
     "data": {
      "text/html": [
       "<div>\n",
       "<style scoped>\n",
       "    .dataframe tbody tr th:only-of-type {\n",
       "        vertical-align: middle;\n",
       "    }\n",
       "\n",
       "    .dataframe tbody tr th {\n",
       "        vertical-align: top;\n",
       "    }\n",
       "\n",
       "    .dataframe thead th {\n",
       "        text-align: right;\n",
       "    }\n",
       "</style>\n",
       "<table border=\"1\" class=\"dataframe\">\n",
       "  <thead>\n",
       "    <tr style=\"text-align: right;\">\n",
       "      <th></th>\n",
       "      <th>program_id</th>\n",
       "      <th>datetime</th>\n",
       "      <th>star</th>\n",
       "      <th>user</th>\n",
       "      <th>result</th>\n",
       "      <th>time</th>\n",
       "      <th>memory</th>\n",
       "      <th>language</th>\n",
       "      <th>problem_code</th>\n",
       "      <th># of recursions</th>\n",
       "      <th># of iteration</th>\n",
       "    </tr>\n",
       "  </thead>\n",
       "  <tbody>\n",
       "    <tr>\n",
       "      <th>0</th>\n",
       "      <td>34852056</td>\n",
       "      <td>08:44 PM 28/06/20</td>\n",
       "      <td>4</td>\n",
       "      <td>crusher5371</td>\n",
       "      <td>accepted</td>\n",
       "      <td>0.00</td>\n",
       "      <td>10.5M</td>\n",
       "      <td>C++17</td>\n",
       "      <td>ECJN202</td>\n",
       "      <td>true</td>\n",
       "      <td>true</td>\n",
       "    </tr>\n",
       "    <tr>\n",
       "      <th>1</th>\n",
       "      <td>34852073</td>\n",
       "      <td>08:45 PM 28/06/20</td>\n",
       "      <td>5</td>\n",
       "      <td>akil_av17</td>\n",
       "      <td>accepted</td>\n",
       "      <td>0.05</td>\n",
       "      <td>2133M</td>\n",
       "      <td>JAVA</td>\n",
       "      <td>ECJN202</td>\n",
       "      <td>false</td>\n",
       "      <td>true</td>\n",
       "    </tr>\n",
       "    <tr>\n",
       "      <th>2</th>\n",
       "      <td>34852106</td>\n",
       "      <td>08:47 PM 28/06/20</td>\n",
       "      <td>3</td>\n",
       "      <td>hackervivek123</td>\n",
       "      <td>accepted</td>\n",
       "      <td>0.00</td>\n",
       "      <td>26M</td>\n",
       "      <td>C++14</td>\n",
       "      <td>ECJN202</td>\n",
       "      <td>true</td>\n",
       "      <td>true</td>\n",
       "    </tr>\n",
       "    <tr>\n",
       "      <th>3</th>\n",
       "      <td>34852142</td>\n",
       "      <td>08:49 PM 28/06/20</td>\n",
       "      <td>2</td>\n",
       "      <td>niteshguptaktl</td>\n",
       "      <td>accepted</td>\n",
       "      <td>0.00</td>\n",
       "      <td>14.9M</td>\n",
       "      <td>C++14</td>\n",
       "      <td>ECJN202</td>\n",
       "      <td>false</td>\n",
       "      <td>true</td>\n",
       "    </tr>\n",
       "    <tr>\n",
       "      <th>4</th>\n",
       "      <td>34852231</td>\n",
       "      <td>08:53 PM 28/06/20</td>\n",
       "      <td>2</td>\n",
       "      <td>sindal_01</td>\n",
       "      <td>wrong answer</td>\n",
       "      <td>0.00</td>\n",
       "      <td>14.9M</td>\n",
       "      <td>C++14</td>\n",
       "      <td>ECJN202</td>\n",
       "      <td>false</td>\n",
       "      <td>true</td>\n",
       "    </tr>\n",
       "  </tbody>\n",
       "</table>\n",
       "</div>"
      ],
      "text/plain": [
       "   program_id           datetime  star            user        result  time  \\\n",
       "0    34852056  08:44 PM 28/06/20     4     crusher5371      accepted  0.00   \n",
       "1    34852073  08:45 PM 28/06/20     5       akil_av17      accepted  0.05   \n",
       "2    34852106  08:47 PM 28/06/20     3  hackervivek123      accepted  0.00   \n",
       "3    34852142  08:49 PM 28/06/20     2  niteshguptaktl      accepted  0.00   \n",
       "4    34852231  08:53 PM 28/06/20     2       sindal_01  wrong answer  0.00   \n",
       "\n",
       "  memory language problem_code # of recursions # of iteration  \n",
       "0  10.5M    C++17      ECJN202            true           true  \n",
       "1  2133M     JAVA      ECJN202           false           true  \n",
       "2    26M    C++14      ECJN202            true           true  \n",
       "3  14.9M    C++14      ECJN202           false           true  \n",
       "4  14.9M    C++14      ECJN202           false           true  "
      ]
     },
     "execution_count": 3,
     "metadata": {},
     "output_type": "execute_result"
    }
   ],
   "source": [
    "data.head()"
   ]
  },
  {
   "cell_type": "code",
   "execution_count": 4,
   "metadata": {},
   "outputs": [],
   "source": [
    "clean_data = data[data['# of recursions']!='0']"
   ]
  },
  {
   "cell_type": "code",
   "execution_count": 7,
   "metadata": {},
   "outputs": [
    {
     "data": {
      "text/plain": [
       "(392, 11)"
      ]
     },
     "execution_count": 7,
     "metadata": {},
     "output_type": "execute_result"
    }
   ],
   "source": [
    "clean_data.shape"
   ]
  },
  {
   "cell_type": "code",
   "execution_count": 12,
   "metadata": {},
   "outputs": [
    {
     "data": {
      "text/plain": [
       "program_id         58\n",
       "datetime           58\n",
       "star               58\n",
       "user               58\n",
       "result             58\n",
       "time               58\n",
       "memory             58\n",
       "language           58\n",
       "problem_code       58\n",
       "# of recursions    58\n",
       "# of iteration     58\n",
       "dtype: int64"
      ]
     },
     "execution_count": 12,
     "metadata": {},
     "output_type": "execute_result"
    }
   ],
   "source": [
    "clean_data[clean_data['language']=='C++17'].count()"
   ]
  },
  {
   "cell_type": "code",
   "execution_count": null,
   "metadata": {},
   "outputs": [],
   "source": []
  }
 ],
 "metadata": {
  "kernelspec": {
   "display_name": "Python 3",
   "language": "python",
   "name": "python3"
  },
  "language_info": {
   "codemirror_mode": {
    "name": "ipython",
    "version": 3
   },
   "file_extension": ".py",
   "mimetype": "text/x-python",
   "name": "python",
   "nbconvert_exporter": "python",
   "pygments_lexer": "ipython3",
   "version": "3.7.6"
  }
 },
 "nbformat": 4,
 "nbformat_minor": 4
}
